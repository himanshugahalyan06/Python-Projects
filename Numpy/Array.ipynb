{
 "cells": [
  {
   "cell_type": "code",
   "execution_count": 1,
   "id": "6959ffee",
   "metadata": {},
   "outputs": [
    {
     "data": {
      "text/plain": [
       "array([1, 2, 3])"
      ]
     },
     "execution_count": 1,
     "metadata": {},
     "output_type": "execute_result"
    }
   ],
   "source": [
    "import numpy as np\n",
    "\n",
    "a=np.array([1,2,3])\n",
    "a\n"
   ]
  },
  {
   "cell_type": "code",
   "execution_count": 2,
   "id": "cf0e2f44",
   "metadata": {},
   "outputs": [
    {
     "data": {
      "text/plain": [
       "array([[1, 2, 3],\n",
       "       [4, 5, 6]])"
      ]
     },
     "execution_count": 2,
     "metadata": {},
     "output_type": "execute_result"
    }
   ],
   "source": [
    "## 2D and 3D array \n",
    "b=np.array([[1,2,3],[4,5,6]])\n",
    "b\n"
   ]
  },
  {
   "cell_type": "code",
   "execution_count": null,
   "id": "2d5ca0dc",
   "metadata": {},
   "outputs": [
    {
     "data": {
      "text/plain": [
       "array([[[1, 2],\n",
       "        [4, 5]],\n",
       "\n",
       "       [[6, 7],\n",
       "        [7, 8]]])"
      ]
     },
     "execution_count": 5,
     "metadata": {},
     "output_type": "execute_result"
    }
   ],
   "source": [
    "c=np.array([[[1,2],[4,5]],[[6,7],[7,8]]])\n",
    "c  ## number of elements must be same for all rows and columns \n"
   ]
  },
  {
   "cell_type": "code",
   "execution_count": 8,
   "id": "d2d31bf1",
   "metadata": {},
   "outputs": [
    {
     "data": {
      "text/plain": [
       "dtype('int32')"
      ]
     },
     "execution_count": 8,
     "metadata": {},
     "output_type": "execute_result"
    }
   ],
   "source": [
    "## dtype \n",
    "c.dtype\n"
   ]
  },
  {
   "cell_type": "code",
   "execution_count": 9,
   "id": "e8f430ca",
   "metadata": {},
   "outputs": [
    {
     "data": {
      "text/plain": [
       "(2, 2, 2)"
      ]
     },
     "execution_count": 9,
     "metadata": {},
     "output_type": "execute_result"
    }
   ],
   "source": [
    "## shape \n",
    "c.shape\n"
   ]
  },
  {
   "cell_type": "code",
   "execution_count": 13,
   "id": "e2600d51",
   "metadata": {},
   "outputs": [
    {
     "data": {
      "text/plain": [
       "array([1., 2., 3.])"
      ]
     },
     "execution_count": 13,
     "metadata": {},
     "output_type": "execute_result"
    }
   ],
   "source": [
    "## dtpe given by user \n",
    "np.array([1,2,3],dtype=float)\n"
   ]
  },
  {
   "cell_type": "code",
   "execution_count": 15,
   "id": "e071e511",
   "metadata": {},
   "outputs": [
    {
     "data": {
      "text/plain": [
       "array([ 1,  3,  5,  7,  9, 11, 13, 15, 17, 19, 21, 23, 25, 27, 29, 31, 33,\n",
       "       35, 37, 39, 41, 43, 45, 47, 49, 51, 53, 55, 57, 59, 61, 63, 65, 67,\n",
       "       69, 71, 73, 75, 77, 79, 81, 83, 85, 87, 89, 91, 93, 95, 97, 99])"
      ]
     },
     "execution_count": 15,
     "metadata": {},
     "output_type": "execute_result"
    }
   ],
   "source": [
    "## np.a-range() \n",
    "\n",
    "# arr=np.arange(start,end,step)\n",
    "\n",
    "## all the odd number from 1 to 100 \n",
    "\n",
    "odd_num=np.arange(1,100,2)\n",
    "odd_num\n"
   ]
  },
  {
   "cell_type": "code",
   "execution_count": 16,
   "id": "baa23bf7",
   "metadata": {},
   "outputs": [
    {
     "data": {
      "text/plain": [
       "array([  2,   4,   6,   8,  10,  12,  14,  16,  18,  20,  22,  24,  26,\n",
       "        28,  30,  32,  34,  36,  38,  40,  42,  44,  46,  48,  50,  52,\n",
       "        54,  56,  58,  60,  62,  64,  66,  68,  70,  72,  74,  76,  78,\n",
       "        80,  82,  84,  86,  88,  90,  92,  94,  96,  98, 100])"
      ]
     },
     "execution_count": 16,
     "metadata": {},
     "output_type": "execute_result"
    }
   ],
   "source": [
    "## even number from 1 to 100\n",
    "even_num=np.arange(2,101,2)\n",
    "even_num\n"
   ]
  },
  {
   "cell_type": "code",
   "execution_count": 17,
   "id": "973f96e0",
   "metadata": {},
   "outputs": [
    {
     "data": {
      "text/plain": [
       "array([ 0,  1,  2,  3,  4,  5,  6,  7,  8,  9, 10, 11])"
      ]
     },
     "execution_count": 17,
     "metadata": {},
     "output_type": "execute_result"
    }
   ],
   "source": [
    "## reshape the array \n",
    "np.arange(12)\n"
   ]
  },
  {
   "cell_type": "code",
   "execution_count": 18,
   "id": "b52a1192",
   "metadata": {},
   "outputs": [
    {
     "data": {
      "text/plain": [
       "array([[[ 0,  1],\n",
       "        [ 2,  3]],\n",
       "\n",
       "       [[ 4,  5],\n",
       "        [ 6,  7]],\n",
       "\n",
       "       [[ 8,  9],\n",
       "        [10, 11]]])"
      ]
     },
     "execution_count": 18,
     "metadata": {},
     "output_type": "execute_result"
    }
   ],
   "source": [
    "np.arange(12).reshape(3,2,2)\n"
   ]
  },
  {
   "cell_type": "code",
   "execution_count": null,
   "id": "e41178ab",
   "metadata": {},
   "outputs": [
    {
     "data": {
      "text/plain": [
       "array([[1., 1., 1., 1.],\n",
       "       [1., 1., 1., 1.],\n",
       "       [1., 1., 1., 1.]])"
      ]
     },
     "execution_count": 20,
     "metadata": {},
     "output_type": "execute_result"
    }
   ],
   "source": [
    "## np.ones and np.zeros\n",
    "np.ones((3,4))\n",
    "\n",
    "## in ones and zeros \n",
    "## by default dtype is float \n"
   ]
  },
  {
   "cell_type": "code",
   "execution_count": 21,
   "id": "d6d87cde",
   "metadata": {},
   "outputs": [
    {
     "data": {
      "text/plain": [
       "array([[0., 0., 0., 0.],\n",
       "       [0., 0., 0., 0.],\n",
       "       [0., 0., 0., 0.]])"
      ]
     },
     "execution_count": 21,
     "metadata": {},
     "output_type": "execute_result"
    }
   ],
   "source": [
    "np.zeros((3,4))\n"
   ]
  },
  {
   "cell_type": "code",
   "execution_count": null,
   "id": "3196935a",
   "metadata": {},
   "outputs": [
    {
     "data": {
      "text/plain": [
       "array([[0.71337014, 0.75917558, 0.41107878, 0.33517024],\n",
       "       [0.28056419, 0.54395379, 0.01083975, 0.12695112],\n",
       "       [0.3536703 , 0.27492064, 0.87232185, 0.23126782]])"
      ]
     },
     "execution_count": 22,
     "metadata": {},
     "output_type": "execute_result"
    }
   ],
   "source": [
    "### np.random\n",
    "np.random.random((3,4))  ## module.class_name.method\n"
   ]
  },
  {
   "cell_type": "code",
   "execution_count": null,
   "id": "9284e013",
   "metadata": {},
   "outputs": [
    {
     "data": {
      "text/plain": [
       "array([-10,  -8,  -6,  -4,  -2,   1,   3,   5,   7,  10])"
      ]
     },
     "execution_count": 29,
     "metadata": {},
     "output_type": "execute_result"
    }
   ],
   "source": [
    "## np.linspace\n",
    "np.linspace(-10,10,10,dtype=int)\n",
    "\n",
    "## np.linspace(start,stop,num want to generate)\n",
    "## interval is automatically taken\n",
    "\n"
   ]
  },
  {
   "cell_type": "code",
   "execution_count": 30,
   "id": "a7d4c77d",
   "metadata": {},
   "outputs": [
    {
     "data": {
      "text/plain": [
       "array([[1., 0., 0., 0.],\n",
       "       [0., 1., 0., 0.],\n",
       "       [0., 0., 1., 0.],\n",
       "       [0., 0., 0., 1.]])"
      ]
     },
     "execution_count": 30,
     "metadata": {},
     "output_type": "execute_result"
    }
   ],
   "source": [
    "## Identity Matrix\n",
    "np.identity(4)\n"
   ]
  },
  {
   "cell_type": "markdown",
   "id": "c271c535",
   "metadata": {},
   "source": [
    "## Array Attributes\n"
   ]
  },
  {
   "cell_type": "code",
   "execution_count": null,
   "id": "4e61c53a",
   "metadata": {},
   "outputs": [],
   "source": [
    "a1=np.arange(10,dtype=np.int32)\n",
    "a2=np.arange(12,dtype=float).reshape(3,4)\n",
    "a3=np.arange(8,dtype=int).reshape(2,2,2)\n",
    "\n"
   ]
  },
  {
   "cell_type": "code",
   "execution_count": 32,
   "id": "2961353a",
   "metadata": {},
   "outputs": [
    {
     "data": {
      "text/plain": [
       "(2, 2, 2)"
      ]
     },
     "execution_count": 32,
     "metadata": {},
     "output_type": "execute_result"
    }
   ],
   "source": [
    "## shape \n",
    "a3.shape\n"
   ]
  },
  {
   "cell_type": "code",
   "execution_count": 33,
   "id": "b8893488",
   "metadata": {},
   "outputs": [
    {
     "data": {
      "text/plain": [
       "8"
      ]
     },
     "execution_count": 33,
     "metadata": {},
     "output_type": "execute_result"
    }
   ],
   "source": [
    "## size \n",
    "a3.size\n"
   ]
  },
  {
   "cell_type": "code",
   "execution_count": 34,
   "id": "0ea697e3",
   "metadata": {},
   "outputs": [
    {
     "data": {
      "text/plain": [
       "dtype('int32')"
      ]
     },
     "execution_count": 34,
     "metadata": {},
     "output_type": "execute_result"
    }
   ],
   "source": [
    "## dtpe \n",
    "a1.dtype\n"
   ]
  },
  {
   "cell_type": "code",
   "execution_count": 35,
   "id": "e3c1e62f",
   "metadata": {},
   "outputs": [
    {
     "data": {
      "text/plain": [
       "4"
      ]
     },
     "execution_count": 35,
     "metadata": {},
     "output_type": "execute_result"
    }
   ],
   "source": [
    "## itemsize\n",
    "a3.itemsize\n"
   ]
  },
  {
   "cell_type": "code",
   "execution_count": 37,
   "id": "dc0183f3",
   "metadata": {},
   "outputs": [
    {
     "data": {
      "text/plain": [
       "dtype('int32')"
      ]
     },
     "execution_count": 37,
     "metadata": {},
     "output_type": "execute_result"
    }
   ],
   "source": [
    "## dtpe\n",
    "a1.dtype\n"
   ]
  },
  {
   "cell_type": "code",
   "execution_count": 40,
   "id": "bd761ebf",
   "metadata": {},
   "outputs": [
    {
     "data": {
      "text/plain": [
       "dtype('int32')"
      ]
     },
     "execution_count": 40,
     "metadata": {},
     "output_type": "execute_result"
    }
   ],
   "source": [
    "## Changing Data Type \n",
    "## astype \n",
    "\n",
    "a3.astype(np.int32)\n",
    "a3.dtype\n"
   ]
  },
  {
   "cell_type": "markdown",
   "id": "5f2afb83",
   "metadata": {},
   "source": [
    "## Array Operations \n"
   ]
  },
  {
   "cell_type": "code",
   "execution_count": 42,
   "id": "c65aac14",
   "metadata": {},
   "outputs": [
    {
     "data": {
      "text/plain": [
       "array([[ 0,  1,  2,  3],\n",
       "       [ 4,  5,  6,  7],\n",
       "       [ 8,  9, 10, 11]])"
      ]
     },
     "execution_count": 42,
     "metadata": {},
     "output_type": "execute_result"
    }
   ],
   "source": [
    "a1=np.arange(12).reshape(3,4)\n",
    "a2=np.arange(12,24).reshape(3,4)\n",
    "\n",
    "a1\n"
   ]
  },
  {
   "cell_type": "code",
   "execution_count": null,
   "id": "1a3af256",
   "metadata": {},
   "outputs": [
    {
     "data": {
      "text/plain": [
       "array([[12, 13, 14, 15],\n",
       "       [16, 17, 18, 19],\n",
       "       [20, 21, 22, 23]])"
      ]
     },
     "execution_count": 43,
     "metadata": {},
     "output_type": "execute_result"
    }
   ],
   "source": [
    "a2\n"
   ]
  },
  {
   "cell_type": "code",
   "execution_count": 46,
   "id": "efeb8a4a",
   "metadata": {},
   "outputs": [
    {
     "data": {
      "text/plain": [
       "array([[   0,    1,    8,   27],\n",
       "       [  64,  125,  216,  343],\n",
       "       [ 512,  729, 1000, 1331]], dtype=int32)"
      ]
     },
     "execution_count": 46,
     "metadata": {},
     "output_type": "execute_result"
    }
   ],
   "source": [
    "## Scalar Operations \n",
    "\n",
    "## arithmetic operations \n",
    "\n",
    "a1**3\n"
   ]
  },
  {
   "cell_type": "code",
   "execution_count": 45,
   "id": "b493e562",
   "metadata": {},
   "outputs": [
    {
     "data": {
      "text/plain": [
       "array([[False, False, False,  True],\n",
       "       [False, False, False, False],\n",
       "       [False, False, False, False]])"
      ]
     },
     "execution_count": 45,
     "metadata": {},
     "output_type": "execute_result"
    }
   ],
   "source": [
    "## relational \n",
    "a2==15\n"
   ]
  },
  {
   "cell_type": "code",
   "execution_count": 47,
   "id": "70af5422",
   "metadata": {},
   "outputs": [
    {
     "data": {
      "text/plain": [
       "array([[  0,   1,   4,   9],\n",
       "       [ 16,  25,  36,  49],\n",
       "       [ 64,  81, 100, 121]])"
      ]
     },
     "execution_count": 47,
     "metadata": {},
     "output_type": "execute_result"
    }
   ],
   "source": [
    "## Exponent \n",
    "a1 ** 2\n"
   ]
  },
  {
   "cell_type": "code",
   "execution_count": null,
   "id": "2551e6a3",
   "metadata": {},
   "outputs": [],
   "source": [
    "## vector operation \n",
    "## arithmetic\n",
    "\n",
    "a1=np.arange(12).reshape(3,4)\n",
    "a2=np.arange(12).reshape(3,4)\n",
    "\n",
    "# all the size and elements msu be same for mutliplication \n",
    "\n"
   ]
  },
  {
   "cell_type": "code",
   "execution_count": 53,
   "id": "a653d006",
   "metadata": {},
   "outputs": [
    {
     "data": {
      "text/plain": [
       "array([[  0,   1,   4,   9],\n",
       "       [ 16,  25,  36,  49],\n",
       "       [ 64,  81, 100, 121]])"
      ]
     },
     "execution_count": 53,
     "metadata": {},
     "output_type": "execute_result"
    }
   ],
   "source": [
    "a1*a2\n"
   ]
  },
  {
   "cell_type": "markdown",
   "id": "58a2914f",
   "metadata": {},
   "source": [
    "Array Functions \n"
   ]
  },
  {
   "cell_type": "code",
   "execution_count": 62,
   "id": "725dc5f4",
   "metadata": {},
   "outputs": [
    {
     "data": {
      "text/plain": [
       "array([[62., 66., 23.],\n",
       "       [20., 96., 79.],\n",
       "       [57.,  9., 34.]])"
      ]
     },
     "execution_count": 62,
     "metadata": {},
     "output_type": "execute_result"
    }
   ],
   "source": [
    "##  by default random.random give number from 0 to 1 if not any range is provided \n",
    "a1=np.random.random((3,3))\n",
    "a1=np.round(a1*100)\n",
    "a1\n"
   ]
  },
  {
   "cell_type": "code",
   "execution_count": 63,
   "id": "a726143b",
   "metadata": {},
   "outputs": [
    {
     "data": {
      "text/plain": [
       "array([70680., 57024., 61778.])"
      ]
     },
     "execution_count": 63,
     "metadata": {},
     "output_type": "execute_result"
    }
   ],
   "source": [
    "## max/min/sum/product \n",
    "\n",
    "## 0 -> col and 1 -> row \n",
    "\n",
    "np.prod(a1,axis=0)\n",
    "\n"
   ]
  },
  {
   "cell_type": "code",
   "execution_count": 64,
   "id": "21a98492",
   "metadata": {},
   "outputs": [
    {
     "data": {
      "text/plain": [
       "96.0"
      ]
     },
     "execution_count": 64,
     "metadata": {},
     "output_type": "execute_result"
    }
   ],
   "source": [
    "## max \n",
    "np.max(a1)\n"
   ]
  },
  {
   "cell_type": "code",
   "execution_count": 65,
   "id": "e9860011",
   "metadata": {},
   "outputs": [
    {
     "data": {
      "text/plain": [
       "9.0"
      ]
     },
     "execution_count": 65,
     "metadata": {},
     "output_type": "execute_result"
    }
   ],
   "source": [
    "## min \n",
    "np.min(a1)\n"
   ]
  },
  {
   "cell_type": "code",
   "execution_count": 68,
   "id": "33216471",
   "metadata": {},
   "outputs": [
    {
     "name": "stdout",
     "output_type": "stream",
     "text": [
      "[[ 0  1  2  3]\n",
      " [ 4  5  6  7]\n",
      " [ 8  9 10 11]]\n"
     ]
    },
    {
     "data": {
      "text/plain": [
       "66"
      ]
     },
     "execution_count": 68,
     "metadata": {},
     "output_type": "execute_result"
    }
   ],
   "source": [
    "## sum\n",
    "sum_num=np.arange(12).reshape(3,4)\n",
    "print(sum_num)\n",
    "np.sum(sum_num)\n"
   ]
  },
  {
   "cell_type": "code",
   "execution_count": 78,
   "id": "e24bb149",
   "metadata": {},
   "outputs": [
    {
     "name": "stdout",
     "output_type": "stream",
     "text": [
      "[  2   4   6   8  10  12  14  16  18  20  22  24  26  28  30  32  34  36\n",
      "  38  40  42  44  46  48  50  52  54  56  58  60  62  64  66  68  70  72\n",
      "  74  76  78  80  82  84  86  88  90  92  94  96  98 100]\n"
     ]
    },
    {
     "data": {
      "text/plain": [
       "2550"
      ]
     },
     "execution_count": 78,
     "metadata": {},
     "output_type": "execute_result"
    }
   ],
   "source": [
    "## Write a program to find the sum of all even number from 1 to 100 \n",
    "num=np.arange(2,101,2)\n",
    "print(num)\n",
    "np.sum(num)\n"
   ]
  },
  {
   "cell_type": "code",
   "execution_count": 74,
   "id": "c504a825",
   "metadata": {},
   "outputs": [
    {
     "name": "stdout",
     "output_type": "stream",
     "text": [
      "[ 1  3  5  7  9 11 13 15 17 19 21 23 25 27 29 31 33 35 37 39 41 43 45 47\n",
      " 49 51 53 55 57 59 61 63 65 67 69 71 73 75 77 79 81 83 85 87 89 91 93 95\n",
      " 97 99]\n"
     ]
    },
    {
     "data": {
      "text/plain": [
       "2500"
      ]
     },
     "execution_count": 74,
     "metadata": {},
     "output_type": "execute_result"
    }
   ],
   "source": [
    "## Write a program to find the sum of all odd number from 1 to 100 \n",
    "nums_1=np.arange(1,100,2)\n",
    "print(nums_1)\n",
    "np.sum(nums_1)\n"
   ]
  },
  {
   "cell_type": "code",
   "execution_count": 79,
   "id": "0b9fdb04",
   "metadata": {},
   "outputs": [
    {
     "data": {
      "text/plain": [
       "833.0"
      ]
     },
     "execution_count": 79,
     "metadata": {},
     "output_type": "execute_result"
    }
   ],
   "source": [
    "## mean/median/std/var\n",
    "\n",
    "## var \n",
    "np.var(num)\n"
   ]
  },
  {
   "cell_type": "code",
   "execution_count": 80,
   "id": "2ccb9708",
   "metadata": {},
   "outputs": [
    {
     "data": {
      "text/plain": [
       "51.0"
      ]
     },
     "execution_count": 80,
     "metadata": {},
     "output_type": "execute_result"
    }
   ],
   "source": [
    "## mean\n",
    "np.mean(num)\n"
   ]
  },
  {
   "cell_type": "code",
   "execution_count": 81,
   "id": "3430e680",
   "metadata": {},
   "outputs": [
    {
     "data": {
      "text/plain": [
       "51.0"
      ]
     },
     "execution_count": 81,
     "metadata": {},
     "output_type": "execute_result"
    }
   ],
   "source": [
    "## median\n",
    "np.median(num)\n"
   ]
  },
  {
   "cell_type": "code",
   "execution_count": null,
   "id": "68adf5ba",
   "metadata": {},
   "outputs": [
    {
     "data": {
      "text/plain": [
       "array([[-0.7391807 , -0.02655115, -0.8462204 ],\n",
       "       [ 0.91294525,  0.98358775, -0.44411267],\n",
       "       [ 0.43616476,  0.41211849,  0.52908269]])"
      ]
     },
     "execution_count": 82,
     "metadata": {},
     "output_type": "execute_result"
    }
   ],
   "source": [
    "## Trignomatery Function \n",
    "\n",
    "np.sin(a1)\n"
   ]
  },
  {
   "cell_type": "code",
   "execution_count": 84,
   "id": "3bcf2e3e",
   "metadata": {},
   "outputs": [
    {
     "data": {
      "text/plain": [
       "array([[114, 120, 126],\n",
       "       [378, 400, 422],\n",
       "       [642, 680, 718]])"
      ]
     },
     "execution_count": 84,
     "metadata": {},
     "output_type": "execute_result"
    }
   ],
   "source": [
    "## dot product \n",
    "a2=np.arange(12).reshape(3,4)\n",
    "a3=np.arange(12,24).reshape(4,3)\n",
    "np.dot(a2,a3)\n"
   ]
  },
  {
   "cell_type": "code",
   "execution_count": 85,
   "id": "275e0cb6",
   "metadata": {},
   "outputs": [
    {
     "data": {
      "text/plain": [
       "array([[8.43835667e+26, 4.60718663e+28, 9.74480345e+09],\n",
       "       [4.85165195e+08, 4.92345829e+41, 2.03828107e+34],\n",
       "       [5.68572000e+24, 8.10308393e+03, 5.83461743e+14]])"
      ]
     },
     "execution_count": 85,
     "metadata": {},
     "output_type": "execute_result"
    }
   ],
   "source": [
    "## log and exponents\n",
    "np.exp(a1)\n"
   ]
  },
  {
   "cell_type": "code",
   "execution_count": 97,
   "id": "782cb377",
   "metadata": {},
   "outputs": [
    {
     "data": {
      "text/plain": [
       "array([[4.12713439, 4.18965474, 3.13549422],\n",
       "       [2.99573227, 4.56434819, 4.36944785],\n",
       "       [4.04305127, 2.19722458, 3.52636052]])"
      ]
     },
     "execution_count": 97,
     "metadata": {},
     "output_type": "execute_result"
    }
   ],
   "source": [
    "np.log(a1)\n"
   ]
  },
  {
   "cell_type": "code",
   "execution_count": 98,
   "id": "b505bd07",
   "metadata": {},
   "outputs": [
    {
     "name": "stdout",
     "output_type": "stream",
     "text": [
      "[[38.74007208 88.80611509 46.68267406]\n",
      " [89.11058672 84.70351309 79.11684708]]\n"
     ]
    },
    {
     "data": {
      "text/plain": [
       "array([[39., 89., 47.],\n",
       "       [90., 85., 80.]])"
      ]
     },
     "execution_count": 98,
     "metadata": {},
     "output_type": "execute_result"
    }
   ],
   "source": [
    "## round /floor/ceil\n",
    "n=np.array(np.random.random((2,3))*100)\n",
    "print(n)\n",
    "np.ceil(n)\n"
   ]
  },
  {
   "cell_type": "code",
   "execution_count": 99,
   "id": "0de83624",
   "metadata": {},
   "outputs": [
    {
     "data": {
      "text/plain": [
       "array([[38., 88., 46.],\n",
       "       [89., 84., 79.]])"
      ]
     },
     "execution_count": 99,
     "metadata": {},
     "output_type": "execute_result"
    }
   ],
   "source": [
    "np.floor(n)\n"
   ]
  },
  {
   "cell_type": "code",
   "execution_count": 101,
   "id": "1d19b55d",
   "metadata": {},
   "outputs": [
    {
     "data": {
      "text/plain": [
       "array([[39., 89., 47.],\n",
       "       [89., 85., 79.]])"
      ]
     },
     "execution_count": 101,
     "metadata": {},
     "output_type": "execute_result"
    }
   ],
   "source": [
    "np.round(n)\n"
   ]
  },
  {
   "cell_type": "markdown",
   "id": "23dd6633",
   "metadata": {},
   "source": [
    "## Indxing and Slicing \n"
   ]
  },
  {
   "cell_type": "code",
   "execution_count": 102,
   "id": "c702a188",
   "metadata": {},
   "outputs": [
    {
     "data": {
      "text/plain": [
       "array([[[0, 1],\n",
       "        [2, 3]],\n",
       "\n",
       "       [[4, 5],\n",
       "        [6, 7]]])"
      ]
     },
     "execution_count": 102,
     "metadata": {},
     "output_type": "execute_result"
    }
   ],
   "source": [
    "a1=np.arange(10)\n",
    "a2=np.arange(12).reshape(3,4)\n",
    "a3=np.arange(8).reshape(2,2,2)\n",
    "\n",
    "a3\n"
   ]
  },
  {
   "cell_type": "code",
   "execution_count": null,
   "id": "97c391b2",
   "metadata": {},
   "outputs": [],
   "source": []
  },
  {
   "cell_type": "code",
   "execution_count": null,
   "id": "6fe611bc",
   "metadata": {},
   "outputs": [],
   "source": []
  }
 ],
 "metadata": {
  "kernelspec": {
   "display_name": "Python 3",
   "language": "python",
   "name": "python3"
  },
  "language_info": {
   "codemirror_mode": {
    "name": "ipython",
    "version": 3
   },
   "file_extension": ".py",
   "mimetype": "text/x-python",
   "name": "python",
   "nbconvert_exporter": "python",
   "pygments_lexer": "ipython3",
   "version": "3.11.8"
  }
 },
 "nbformat": 4,
 "nbformat_minor": 5
}
