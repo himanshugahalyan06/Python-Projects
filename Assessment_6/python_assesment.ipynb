{
 "cells": [
  {
   "cell_type": "code",
   "execution_count": null,
   "id": "f54b13ea-5b6f-4cdc-9aeb-5aed43f0bc71",
   "metadata": {},
   "outputs": [
    {
     "data": {
      "text/plain": [
       "Index(['Employee_ID', 'Name', 'Department', 'Position', 'Salary',\n",
       "       'Joining_Date', 'Performance_Rating', 'Leaves_Taken', 'Attendance_Rate',\n",
       "       'Age'],\n",
       "      dtype='object')"
      ]
     },
     "execution_count": 3,
     "metadata": {},
     "output_type": "execute_result"
    }
   ],
   "source": [
    "#1. How many employees are there in each department?\n",
    "import pandas as pd\n",
    "data=pd.read_csv('employee_data_project.csv')\n",
    "\n",
    "data.columns\n"
   ]
  },
  {
   "cell_type": "code",
   "execution_count": null,
   "id": "62f63dea",
   "metadata": {},
   "outputs": [],
   "source": []
  },
  {
   "cell_type": "code",
   "execution_count": 15,
   "id": "20b5277f-0a1b-44c5-b3c6-8b1585356905",
   "metadata": {},
   "outputs": [
    {
     "data": {
      "text/plain": [
       "Department\n",
       "Sales        97\n",
       "HR           90\n",
       "R&D          86\n",
       "IT           77\n",
       "Marketing    75\n",
       "Finance      75\n",
       "Name: count, dtype: int64"
      ]
     },
     "execution_count": 15,
     "metadata": {},
     "output_type": "execute_result"
    }
   ],
   "source": [
    "no_of_employee=data['Department'].value_counts()\n",
    "no_of_employee\n"
   ]
  },
  {
   "cell_type": "code",
   "execution_count": 16,
   "id": "7d627678-8e38-4a47-a895-2c295e71bd74",
   "metadata": {},
   "outputs": [
    {
     "data": {
      "text/plain": [
       "Index(['Employee_ID', 'Name', 'Department', 'Position', 'Salary',\n",
       "       'Joining_Date', 'Performance_Rating', 'Leaves_Taken', 'Attendance_Rate',\n",
       "       'Age'],\n",
       "      dtype='object')"
      ]
     },
     "execution_count": 16,
     "metadata": {},
     "output_type": "execute_result"
    }
   ],
   "source": [
    "#2. What is the average salary in each department?\n",
    "data.columns\n"
   ]
  },
  {
   "cell_type": "code",
   "execution_count": null,
   "id": "1af46536-e9e7-41f4-87b3-60dd45f1e4b0",
   "metadata": {},
   "outputs": [
    {
     "name": "stdout",
     "output_type": "stream",
     "text": [
      "Department\n",
      "Finance      94582.053333\n",
      "HR           89361.022222\n",
      "IT           86479.662338\n",
      "Marketing    81493.346667\n",
      "R&D          87429.209302\n",
      "Sales        89272.876289\n",
      "Name: Salary, dtype: float64\n"
     ]
    }
   ],
   "source": [
    "average_salary = data.groupby('Department')['Salary'].mean()\n",
    "\n",
    "print(average_salary)\n"
   ]
  },
  {
   "cell_type": "code",
   "execution_count": 29,
   "id": "567c7638-2dd4-47bc-b901-9cda17437de7",
   "metadata": {},
   "outputs": [
    {
     "data": {
      "text/plain": [
       "Department\n",
       "Sales        21\n",
       "HR           20\n",
       "R&D          17\n",
       "IT           17\n",
       "Finance      16\n",
       "Marketing    14\n",
       "Name: count, dtype: int64"
      ]
     },
     "execution_count": 29,
     "metadata": {},
     "output_type": "execute_result"
    }
   ],
   "source": [
    "#3. Which department has the highest number of employees with “Excellent” performance?\n",
    "## (idxmax) It returns the index label (i.e., the department name) of the maximum value in the Series.\n",
    "\n",
    "#data[data['Performance_Rating'] == 'Excellent']['Department'].value_counts().idxmax()\n",
    "\n",
    "data[data['Performance_Rating'] == 'Excellent']['Department'].value_counts()\n",
    "\n"
   ]
  },
  {
   "cell_type": "code",
   "execution_count": null,
   "id": "ab0df365-e437-4d32-be5c-8b295bd77bda",
   "metadata": {},
   "outputs": [
    {
     "data": {
      "text/plain": [
       "Index(['Employee_ID', 'Name', 'Department', 'Position', 'Salary',\n",
       "       'Joining_Date', 'Performance_Rating', 'Leaves_Taken', 'Attendance_Rate',\n",
       "       'Age'],\n",
       "      dtype='object')"
      ]
     },
     "execution_count": 30,
     "metadata": {},
     "output_type": "execute_result"
    }
   ],
   "source": [
    "#4. What is the distribution of positions across the organization?\n",
    "data.columns\n"
   ]
  },
  {
   "cell_type": "code",
   "execution_count": 31,
   "id": "5443d0ed-fb6d-42e5-9d83-8cba35a2a36a",
   "metadata": {},
   "outputs": [
    {
     "data": {
      "text/plain": [
       "Position\n",
       "Team Lead    108\n",
       "Manager      105\n",
       "Analyst      101\n",
       "Intern        93\n",
       "Executive     93\n",
       "Name: count, dtype: int64"
      ]
     },
     "execution_count": 31,
     "metadata": {},
     "output_type": "execute_result"
    }
   ],
   "source": [
    "data['Position'].value_counts()\n"
   ]
  },
  {
   "cell_type": "code",
   "execution_count": 32,
   "id": "ca2e071a-10c1-4100-a1a3-729213c4fd35",
   "metadata": {},
   "outputs": [
    {
     "data": {
      "text/plain": [
       "Index(['Employee_ID', 'Name', 'Department', 'Position', 'Salary',\n",
       "       'Joining_Date', 'Performance_Rating', 'Leaves_Taken', 'Attendance_Rate',\n",
       "       'Age'],\n",
       "      dtype='object')"
      ]
     },
     "execution_count": 32,
     "metadata": {},
     "output_type": "execute_result"
    }
   ],
   "source": [
    "#5. What is the average attendance rate per department?\n",
    "data.columns\n"
   ]
  },
  {
   "cell_type": "code",
   "execution_count": 35,
   "id": "24d7b222-e84c-40cb-9ee9-386a861fe6f1",
   "metadata": {},
   "outputs": [
    {
     "data": {
      "text/plain": [
       "Department\n",
       "Finance      81.531600\n",
       "HR           80.029889\n",
       "IT           77.229091\n",
       "Marketing    81.950800\n",
       "R&D          78.958140\n",
       "Sales        79.951546\n",
       "Name: Attendance_Rate, dtype: float64"
      ]
     },
     "execution_count": 35,
     "metadata": {},
     "output_type": "execute_result"
    }
   ],
   "source": [
    "average_attendence = data.groupby('Department')['Attendance_Rate'].mean()\n",
    "average_attendence\n"
   ]
  },
  {
   "cell_type": "code",
   "execution_count": 36,
   "id": "1ff78ecc-3500-4893-a631-24f2f25056d8",
   "metadata": {},
   "outputs": [
    {
     "data": {
      "text/plain": [
       "Index(['Employee_ID', 'Name', 'Department', 'Position', 'Salary',\n",
       "       'Joining_Date', 'Performance_Rating', 'Leaves_Taken', 'Attendance_Rate',\n",
       "       'Age'],\n",
       "      dtype='object')"
      ]
     },
     "execution_count": 36,
     "metadata": {},
     "output_type": "execute_result"
    }
   ],
   "source": [
    "#6. Who are the top 10 highest paid employees?\n",
    "data.columns\n"
   ]
  },
  {
   "cell_type": "code",
   "execution_count": 44,
   "id": "44a76fa1-379d-4fc8-a516-330a2fc2d38f",
   "metadata": {},
   "outputs": [
    {
     "data": {
      "text/html": [
       "<div>\n",
       "<style scoped>\n",
       "    .dataframe tbody tr th:only-of-type {\n",
       "        vertical-align: middle;\n",
       "    }\n",
       "\n",
       "    .dataframe tbody tr th {\n",
       "        vertical-align: top;\n",
       "    }\n",
       "\n",
       "    .dataframe thead th {\n",
       "        text-align: right;\n",
       "    }\n",
       "</style>\n",
       "<table border=\"1\" class=\"dataframe\">\n",
       "  <thead>\n",
       "    <tr style=\"text-align: right;\">\n",
       "      <th></th>\n",
       "      <th>Employee_ID</th>\n",
       "      <th>Name</th>\n",
       "      <th>Department</th>\n",
       "      <th>Salary</th>\n",
       "    </tr>\n",
       "  </thead>\n",
       "  <tbody>\n",
       "    <tr>\n",
       "      <th>144</th>\n",
       "      <td>EMP1144</td>\n",
       "      <td>Employee_144</td>\n",
       "      <td>IT</td>\n",
       "      <td>149797</td>\n",
       "    </tr>\n",
       "    <tr>\n",
       "      <th>252</th>\n",
       "      <td>EMP1252</td>\n",
       "      <td>Employee_252</td>\n",
       "      <td>Sales</td>\n",
       "      <td>149771</td>\n",
       "    </tr>\n",
       "    <tr>\n",
       "      <th>166</th>\n",
       "      <td>EMP1166</td>\n",
       "      <td>Employee_166</td>\n",
       "      <td>R&amp;D</td>\n",
       "      <td>149719</td>\n",
       "    </tr>\n",
       "    <tr>\n",
       "      <th>258</th>\n",
       "      <td>EMP1258</td>\n",
       "      <td>Employee_258</td>\n",
       "      <td>Sales</td>\n",
       "      <td>149614</td>\n",
       "    </tr>\n",
       "    <tr>\n",
       "      <th>307</th>\n",
       "      <td>EMP1307</td>\n",
       "      <td>Employee_307</td>\n",
       "      <td>Finance</td>\n",
       "      <td>149235</td>\n",
       "    </tr>\n",
       "    <tr>\n",
       "      <th>339</th>\n",
       "      <td>EMP1339</td>\n",
       "      <td>Employee_339</td>\n",
       "      <td>R&amp;D</td>\n",
       "      <td>149179</td>\n",
       "    </tr>\n",
       "    <tr>\n",
       "      <th>327</th>\n",
       "      <td>EMP1327</td>\n",
       "      <td>Employee_327</td>\n",
       "      <td>R&amp;D</td>\n",
       "      <td>148865</td>\n",
       "    </tr>\n",
       "    <tr>\n",
       "      <th>40</th>\n",
       "      <td>EMP1040</td>\n",
       "      <td>Employee_40</td>\n",
       "      <td>HR</td>\n",
       "      <td>148721</td>\n",
       "    </tr>\n",
       "    <tr>\n",
       "      <th>174</th>\n",
       "      <td>EMP1174</td>\n",
       "      <td>Employee_174</td>\n",
       "      <td>IT</td>\n",
       "      <td>148195</td>\n",
       "    </tr>\n",
       "    <tr>\n",
       "      <th>159</th>\n",
       "      <td>EMP1159</td>\n",
       "      <td>Employee_159</td>\n",
       "      <td>Sales</td>\n",
       "      <td>147718</td>\n",
       "    </tr>\n",
       "  </tbody>\n",
       "</table>\n",
       "</div>"
      ],
      "text/plain": [
       "    Employee_ID          Name Department  Salary\n",
       "144     EMP1144  Employee_144         IT  149797\n",
       "252     EMP1252  Employee_252      Sales  149771\n",
       "166     EMP1166  Employee_166        R&D  149719\n",
       "258     EMP1258  Employee_258      Sales  149614\n",
       "307     EMP1307  Employee_307    Finance  149235\n",
       "339     EMP1339  Employee_339        R&D  149179\n",
       "327     EMP1327  Employee_327        R&D  148865\n",
       "40      EMP1040   Employee_40         HR  148721\n",
       "174     EMP1174  Employee_174         IT  148195\n",
       "159     EMP1159  Employee_159      Sales  147718"
      ]
     },
     "execution_count": 44,
     "metadata": {},
     "output_type": "execute_result"
    }
   ],
   "source": [
    "top_10=data.sort_values(by='Salary',ascending=False).head(10)\n",
    "top_10[['Employee_ID','Name','Department','Salary']]\n"
   ]
  },
  {
   "cell_type": "code",
   "execution_count": null,
   "id": "ea5897bd-58c4-47f0-bec3-dbcba7cb7a1f",
   "metadata": {},
   "outputs": [
    {
     "data": {
      "text/plain": [
       "Index(['Employee_ID', 'Name', 'Department', 'Position', 'Salary',\n",
       "       'Joining_Date', 'Performance_Rating', 'Leaves_Taken', 'Attendance_Rate',\n",
       "       'Age'],\n",
       "      dtype='object')"
      ]
     },
     "execution_count": 45,
     "metadata": {},
     "output_type": "execute_result"
    }
   ],
   "source": [
    "#7. What is the average age of employees in each department?\n",
    "data.columns\n"
   ]
  },
  {
   "cell_type": "code",
   "execution_count": 46,
   "id": "9b722607-a8ea-496b-9161-72cdd59dc53b",
   "metadata": {},
   "outputs": [
    {
     "data": {
      "text/plain": [
       "Department\n",
       "Finance      40.986667\n",
       "HR           42.700000\n",
       "IT           39.402597\n",
       "Marketing    41.186667\n",
       "R&D          38.581395\n",
       "Sales        39.824742\n",
       "Name: Age, dtype: float64"
      ]
     },
     "execution_count": 46,
     "metadata": {},
     "output_type": "execute_result"
    }
   ],
   "source": [
    "average_age=data.groupby('Department')['Age'].mean()\n",
    "average_age\n"
   ]
  },
  {
   "cell_type": "code",
   "execution_count": null,
   "id": "2c335eeb-60c3-4aca-ae56-7b6bc47a83e1",
   "metadata": {},
   "outputs": [
    {
     "data": {
      "text/plain": [
       "Index(['Employee_ID', 'Name', 'Department', 'Position', 'Salary',\n",
       "       'Joining_Date', 'Performance_Rating', 'Leaves_Taken', 'Attendance_Rate',\n",
       "       'Age'],\n",
       "      dtype='object')"
      ]
     },
     "execution_count": 47,
     "metadata": {},
     "output_type": "execute_result"
    }
   ],
   "source": [
    "#8. Count employees who joined after 2022.\n",
    "import datetime as dt\n",
    "data.columns\n"
   ]
  },
  {
   "cell_type": "code",
   "execution_count": 60,
   "id": "68ff5d82-f5c9-44b3-8901-b60455f36379",
   "metadata": {},
   "outputs": [
    {
     "name": "stdout",
     "output_type": "stream",
     "text": [
      "Total Numbe rof employee who joined after 2022:  132\n"
     ]
    }
   ],
   "source": [
    "data['Joining_Date'] = pd.to_datetime(data['Joining_Date'])\n",
    "count_after_2022 = data[data['Joining_Date'] > '2022-12-31'].value_counts().sum()\n",
    "print(\"Total Numbe rof employee who joined after 2022: \",count_after_2022)\n"
   ]
  },
  {
   "cell_type": "code",
   "execution_count": 61,
   "id": "c50af9a3-5159-4bd2-9361-213ff70b5e6e",
   "metadata": {},
   "outputs": [
    {
     "data": {
      "text/plain": [
       "Index(['Employee_ID', 'Name', 'Department', 'Position', 'Salary',\n",
       "       'Joining_Date', 'Performance_Rating', 'Leaves_Taken', 'Attendance_Rate',\n",
       "       'Age'],\n",
       "      dtype='object')"
      ]
     },
     "execution_count": 61,
     "metadata": {},
     "output_type": "execute_result"
    }
   ],
   "source": [
    "#9. What’s the average number of leaves taken by each position?\n",
    "data.columns\n"
   ]
  },
  {
   "cell_type": "code",
   "execution_count": 62,
   "id": "54ff55d1-8634-4ed1-aa4d-6885c4b10abe",
   "metadata": {},
   "outputs": [
    {
     "data": {
      "text/plain": [
       "Position\n",
       "Analyst      12.900990\n",
       "Executive    15.043011\n",
       "Intern       14.795699\n",
       "Manager      15.552381\n",
       "Team Lead    16.268519\n",
       "Name: Leaves_Taken, dtype: float64"
      ]
     },
     "execution_count": 62,
     "metadata": {},
     "output_type": "execute_result"
    }
   ],
   "source": [
    "average_leaves=data.groupby('Position')['Leaves_Taken'].mean()\n",
    "average_leaves\n"
   ]
  },
  {
   "cell_type": "code",
   "execution_count": null,
   "id": "a6125f48-6b78-4fdf-977a-326d02c049c2",
   "metadata": {},
   "outputs": [
    {
     "data": {
      "text/plain": [
       "Index(['Employee_ID', 'Name', 'Department', 'Position', 'Salary',\n",
       "       'Joining_Date', 'Performance_Rating', 'Leaves_Taken', 'Attendance_Rate',\n",
       "       'Age'],\n",
       "      dtype='object')"
      ]
     },
     "execution_count": 63,
     "metadata": {},
     "output_type": "execute_result"
    }
   ],
   "source": [
    "#10. How many employees have taken more than 20 leaves?\n",
    "data.columns\n"
   ]
  },
  {
   "cell_type": "code",
   "execution_count": 72,
   "id": "3cd19cbd-87bf-4821-8f34-b36971b5b952",
   "metadata": {},
   "outputs": [
    {
     "name": "stdout",
     "output_type": "stream",
     "text": [
      "Toatal Number of People:  161\n"
     ]
    }
   ],
   "source": [
    "more_than_20_leaves=(data['Leaves_Taken']>20).sum()\n",
    "print(\"Toatal Number of People: \",more_than_20_leaves)\n"
   ]
  },
  {
   "cell_type": "code",
   "execution_count": 73,
   "id": "51651ea2-9b2d-4839-a9e2-5abbc4614783",
   "metadata": {},
   "outputs": [
    {
     "data": {
      "text/plain": [
       "Index(['Employee_ID', 'Name', 'Department', 'Position', 'Salary',\n",
       "       'Joining_Date', 'Performance_Rating', 'Leaves_Taken', 'Attendance_Rate',\n",
       "       'Age'],\n",
       "      dtype='object')"
      ]
     },
     "execution_count": 73,
     "metadata": {},
     "output_type": "execute_result"
    }
   ],
   "source": [
    "#11. Find the employee(s) with the lowest attendance rate.\n",
    "data.columns\n"
   ]
  },
  {
   "cell_type": "code",
   "execution_count": 79,
   "id": "014dfde3-ffb1-40a6-b677-2e8b7f0b55e0",
   "metadata": {},
   "outputs": [
    {
     "data": {
      "text/html": [
       "<div>\n",
       "<style scoped>\n",
       "    .dataframe tbody tr th:only-of-type {\n",
       "        vertical-align: middle;\n",
       "    }\n",
       "\n",
       "    .dataframe tbody tr th {\n",
       "        vertical-align: top;\n",
       "    }\n",
       "\n",
       "    .dataframe thead th {\n",
       "        text-align: right;\n",
       "    }\n",
       "</style>\n",
       "<table border=\"1\" class=\"dataframe\">\n",
       "  <thead>\n",
       "    <tr style=\"text-align: right;\">\n",
       "      <th></th>\n",
       "      <th>Employee_ID</th>\n",
       "      <th>Name</th>\n",
       "      <th>Department</th>\n",
       "      <th>Attendance_Rate</th>\n",
       "    </tr>\n",
       "  </thead>\n",
       "  <tbody>\n",
       "    <tr>\n",
       "      <th>444</th>\n",
       "      <td>EMP1444</td>\n",
       "      <td>Employee_444</td>\n",
       "      <td>Sales</td>\n",
       "      <td>60.01</td>\n",
       "    </tr>\n",
       "  </tbody>\n",
       "</table>\n",
       "</div>"
      ],
      "text/plain": [
       "    Employee_ID          Name Department  Attendance_Rate\n",
       "444     EMP1444  Employee_444      Sales            60.01"
      ]
     },
     "execution_count": 79,
     "metadata": {},
     "output_type": "execute_result"
    }
   ],
   "source": [
    "min_attendance = data['Attendance_Rate'].min()\n",
    "lowest_attendance_employees = data[data['Attendance_Rate'] == min_attendance]\n",
    "lowest_attendance_employees[['Employee_ID', 'Name', 'Department', 'Attendance_Rate']]\n"
   ]
  },
  {
   "cell_type": "code",
   "execution_count": 80,
   "id": "d120a39a-7bdf-4293-966f-f5f0383c6b01",
   "metadata": {},
   "outputs": [
    {
     "data": {
      "text/plain": [
       "Index(['Employee_ID', 'Name', 'Department', 'Position', 'Salary',\n",
       "       'Joining_Date', 'Performance_Rating', 'Leaves_Taken', 'Attendance_Rate',\n",
       "       'Age'],\n",
       "      dtype='object')"
      ]
     },
     "execution_count": 80,
     "metadata": {},
     "output_type": "execute_result"
    }
   ],
   "source": [
    "#12. What’s the salary range in each department?\n",
    "data.columns\n"
   ]
  },
  {
   "cell_type": "code",
   "execution_count": 81,
   "id": "f6c34753-643f-45cd-bb53-32294cdc9ad2",
   "metadata": {},
   "outputs": [
    {
     "name": "stdout",
     "output_type": "stream",
     "text": [
      "              min     max\n",
      "Department               \n",
      "Finance     30077  149235\n",
      "HR          34425  148721\n",
      "IT          30922  149797\n",
      "Marketing   30814  143453\n",
      "R&D         30060  149719\n",
      "Sales       31279  149771\n"
     ]
    }
   ],
   "source": [
    "salary_range=data.groupby('Department')['Salary'].agg(['min', 'max'])\n",
    "print(salary_range)\n"
   ]
  },
  {
   "cell_type": "code",
   "execution_count": null,
   "id": "c04ddfcf-2126-4875-ae69-2bb9830aa10c",
   "metadata": {},
   "outputs": [
    {
     "data": {
      "text/plain": [
       "Index(['Employee_ID', 'Name', 'Department', 'Position', 'Salary',\n",
       "       'Joining_Date', 'Performance_Rating', 'Leaves_Taken', 'Attendance_Rate',\n",
       "       'Age'],\n",
       "      dtype='object')"
      ]
     },
     "execution_count": 82,
     "metadata": {},
     "output_type": "execute_result"
    }
   ],
   "source": [
    "#13. Add a column called \"Experience_Years\" based on Joining_Date.\n",
    "data.columns\n"
   ]
  },
  {
   "cell_type": "code",
   "execution_count": 87,
   "id": "94264636-73c9-4c61-a60f-37aea4a1b841",
   "metadata": {},
   "outputs": [
    {
     "data": {
      "text/html": [
       "<div>\n",
       "<style scoped>\n",
       "    .dataframe tbody tr th:only-of-type {\n",
       "        vertical-align: middle;\n",
       "    }\n",
       "\n",
       "    .dataframe tbody tr th {\n",
       "        vertical-align: top;\n",
       "    }\n",
       "\n",
       "    .dataframe thead th {\n",
       "        text-align: right;\n",
       "    }\n",
       "</style>\n",
       "<table border=\"1\" class=\"dataframe\">\n",
       "  <thead>\n",
       "    <tr style=\"text-align: right;\">\n",
       "      <th></th>\n",
       "      <th>Employee_ID</th>\n",
       "      <th>Experience_Years</th>\n",
       "    </tr>\n",
       "  </thead>\n",
       "  <tbody>\n",
       "    <tr>\n",
       "      <th>0</th>\n",
       "      <td>EMP1000</td>\n",
       "      <td>6</td>\n",
       "    </tr>\n",
       "    <tr>\n",
       "      <th>1</th>\n",
       "      <td>EMP1001</td>\n",
       "      <td>2</td>\n",
       "    </tr>\n",
       "    <tr>\n",
       "      <th>2</th>\n",
       "      <td>EMP1002</td>\n",
       "      <td>2</td>\n",
       "    </tr>\n",
       "    <tr>\n",
       "      <th>3</th>\n",
       "      <td>EMP1003</td>\n",
       "      <td>3</td>\n",
       "    </tr>\n",
       "    <tr>\n",
       "      <th>4</th>\n",
       "      <td>EMP1004</td>\n",
       "      <td>0</td>\n",
       "    </tr>\n",
       "    <tr>\n",
       "      <th>...</th>\n",
       "      <td>...</td>\n",
       "      <td>...</td>\n",
       "    </tr>\n",
       "    <tr>\n",
       "      <th>495</th>\n",
       "      <td>EMP1495</td>\n",
       "      <td>2</td>\n",
       "    </tr>\n",
       "    <tr>\n",
       "      <th>496</th>\n",
       "      <td>EMP1496</td>\n",
       "      <td>3</td>\n",
       "    </tr>\n",
       "    <tr>\n",
       "      <th>497</th>\n",
       "      <td>EMP1497</td>\n",
       "      <td>2</td>\n",
       "    </tr>\n",
       "    <tr>\n",
       "      <th>498</th>\n",
       "      <td>EMP1498</td>\n",
       "      <td>5</td>\n",
       "    </tr>\n",
       "    <tr>\n",
       "      <th>499</th>\n",
       "      <td>EMP1499</td>\n",
       "      <td>4</td>\n",
       "    </tr>\n",
       "  </tbody>\n",
       "</table>\n",
       "<p>500 rows × 2 columns</p>\n",
       "</div>"
      ],
      "text/plain": [
       "    Employee_ID  Experience_Years\n",
       "0       EMP1000                 6\n",
       "1       EMP1001                 2\n",
       "2       EMP1002                 2\n",
       "3       EMP1003                 3\n",
       "4       EMP1004                 0\n",
       "..          ...               ...\n",
       "495     EMP1495                 2\n",
       "496     EMP1496                 3\n",
       "497     EMP1497                 2\n",
       "498     EMP1498                 5\n",
       "499     EMP1499                 4\n",
       "\n",
       "[500 rows x 2 columns]"
      ]
     },
     "execution_count": 87,
     "metadata": {},
     "output_type": "execute_result"
    }
   ],
   "source": [
    "data['Experience_Years'] = (pd.Timestamp.today() - pd.to_datetime(data['Joining_Date'])).dt.days // 365\n",
    "data[['Employee_ID', 'Experience_Years']]\n"
   ]
  },
  {
   "cell_type": "code",
   "execution_count": 91,
   "id": "b6fa0fc9-3fe0-4866-8971-a55d927966ba",
   "metadata": {},
   "outputs": [
    {
     "data": {
      "text/html": [
       "<div>\n",
       "<style scoped>\n",
       "    .dataframe tbody tr th:only-of-type {\n",
       "        vertical-align: middle;\n",
       "    }\n",
       "\n",
       "    .dataframe tbody tr th {\n",
       "        vertical-align: top;\n",
       "    }\n",
       "\n",
       "    .dataframe thead th {\n",
       "        text-align: right;\n",
       "    }\n",
       "</style>\n",
       "<table border=\"1\" class=\"dataframe\">\n",
       "  <thead>\n",
       "    <tr style=\"text-align: right;\">\n",
       "      <th></th>\n",
       "      <th>Employee_ID</th>\n",
       "      <th>Name</th>\n",
       "      <th>Department</th>\n",
       "      <th>Position</th>\n",
       "      <th>Salary</th>\n",
       "      <th>Joining_Date</th>\n",
       "      <th>Performance_Rating</th>\n",
       "      <th>Leaves_Taken</th>\n",
       "      <th>Attendance_Rate</th>\n",
       "      <th>Age</th>\n",
       "      <th>Experience_Years</th>\n",
       "    </tr>\n",
       "  </thead>\n",
       "  <tbody>\n",
       "    <tr>\n",
       "      <th>4</th>\n",
       "      <td>EMP1004</td>\n",
       "      <td>Employee_4</td>\n",
       "      <td>Marketing</td>\n",
       "      <td>Team Lead</td>\n",
       "      <td>117388</td>\n",
       "      <td>2024-08-18</td>\n",
       "      <td>Good</td>\n",
       "      <td>15</td>\n",
       "      <td>78.85</td>\n",
       "      <td>44</td>\n",
       "      <td>0</td>\n",
       "    </tr>\n",
       "    <tr>\n",
       "      <th>15</th>\n",
       "      <td>EMP1015</td>\n",
       "      <td>Employee_15</td>\n",
       "      <td>Sales</td>\n",
       "      <td>Intern</td>\n",
       "      <td>135881</td>\n",
       "      <td>2019-12-12</td>\n",
       "      <td>Excellent</td>\n",
       "      <td>16</td>\n",
       "      <td>93.48</td>\n",
       "      <td>42</td>\n",
       "      <td>5</td>\n",
       "    </tr>\n",
       "    <tr>\n",
       "      <th>19</th>\n",
       "      <td>EMP1019</td>\n",
       "      <td>Employee_19</td>\n",
       "      <td>Sales</td>\n",
       "      <td>Executive</td>\n",
       "      <td>112985</td>\n",
       "      <td>2019-01-26</td>\n",
       "      <td>Excellent</td>\n",
       "      <td>1</td>\n",
       "      <td>80.51</td>\n",
       "      <td>42</td>\n",
       "      <td>6</td>\n",
       "    </tr>\n",
       "    <tr>\n",
       "      <th>23</th>\n",
       "      <td>EMP1023</td>\n",
       "      <td>Employee_23</td>\n",
       "      <td>Finance</td>\n",
       "      <td>Executive</td>\n",
       "      <td>105046</td>\n",
       "      <td>2022-03-02</td>\n",
       "      <td>Excellent</td>\n",
       "      <td>10</td>\n",
       "      <td>72.16</td>\n",
       "      <td>31</td>\n",
       "      <td>3</td>\n",
       "    </tr>\n",
       "    <tr>\n",
       "      <th>25</th>\n",
       "      <td>EMP1025</td>\n",
       "      <td>Employee_25</td>\n",
       "      <td>Marketing</td>\n",
       "      <td>Manager</td>\n",
       "      <td>123709</td>\n",
       "      <td>2019-12-28</td>\n",
       "      <td>Good</td>\n",
       "      <td>18</td>\n",
       "      <td>97.53</td>\n",
       "      <td>58</td>\n",
       "      <td>5</td>\n",
       "    </tr>\n",
       "    <tr>\n",
       "      <th>...</th>\n",
       "      <td>...</td>\n",
       "      <td>...</td>\n",
       "      <td>...</td>\n",
       "      <td>...</td>\n",
       "      <td>...</td>\n",
       "      <td>...</td>\n",
       "      <td>...</td>\n",
       "      <td>...</td>\n",
       "      <td>...</td>\n",
       "      <td>...</td>\n",
       "      <td>...</td>\n",
       "    </tr>\n",
       "    <tr>\n",
       "      <th>469</th>\n",
       "      <td>EMP1469</td>\n",
       "      <td>Employee_469</td>\n",
       "      <td>R&amp;D</td>\n",
       "      <td>Executive</td>\n",
       "      <td>104666</td>\n",
       "      <td>2024-05-29</td>\n",
       "      <td>Good</td>\n",
       "      <td>1</td>\n",
       "      <td>75.51</td>\n",
       "      <td>43</td>\n",
       "      <td>1</td>\n",
       "    </tr>\n",
       "    <tr>\n",
       "      <th>478</th>\n",
       "      <td>EMP1478</td>\n",
       "      <td>Employee_478</td>\n",
       "      <td>IT</td>\n",
       "      <td>Analyst</td>\n",
       "      <td>116123</td>\n",
       "      <td>2024-03-28</td>\n",
       "      <td>Good</td>\n",
       "      <td>2</td>\n",
       "      <td>98.03</td>\n",
       "      <td>41</td>\n",
       "      <td>1</td>\n",
       "    </tr>\n",
       "    <tr>\n",
       "      <th>483</th>\n",
       "      <td>EMP1483</td>\n",
       "      <td>Employee_483</td>\n",
       "      <td>R&amp;D</td>\n",
       "      <td>Manager</td>\n",
       "      <td>118929</td>\n",
       "      <td>2018-01-28</td>\n",
       "      <td>Excellent</td>\n",
       "      <td>15</td>\n",
       "      <td>85.77</td>\n",
       "      <td>43</td>\n",
       "      <td>7</td>\n",
       "    </tr>\n",
       "    <tr>\n",
       "      <th>487</th>\n",
       "      <td>EMP1487</td>\n",
       "      <td>Employee_487</td>\n",
       "      <td>Sales</td>\n",
       "      <td>Manager</td>\n",
       "      <td>144618</td>\n",
       "      <td>2023-08-09</td>\n",
       "      <td>Good</td>\n",
       "      <td>25</td>\n",
       "      <td>80.02</td>\n",
       "      <td>48</td>\n",
       "      <td>1</td>\n",
       "    </tr>\n",
       "    <tr>\n",
       "      <th>494</th>\n",
       "      <td>EMP1494</td>\n",
       "      <td>Employee_494</td>\n",
       "      <td>Marketing</td>\n",
       "      <td>Manager</td>\n",
       "      <td>124006</td>\n",
       "      <td>2018-09-27</td>\n",
       "      <td>Excellent</td>\n",
       "      <td>8</td>\n",
       "      <td>90.70</td>\n",
       "      <td>23</td>\n",
       "      <td>6</td>\n",
       "    </tr>\n",
       "  </tbody>\n",
       "</table>\n",
       "<p>121 rows × 11 columns</p>\n",
       "</div>"
      ],
      "text/plain": [
       "    Employee_ID          Name Department   Position  Salary Joining_Date  \\\n",
       "4       EMP1004    Employee_4  Marketing  Team Lead  117388   2024-08-18   \n",
       "15      EMP1015   Employee_15      Sales     Intern  135881   2019-12-12   \n",
       "19      EMP1019   Employee_19      Sales  Executive  112985   2019-01-26   \n",
       "23      EMP1023   Employee_23    Finance  Executive  105046   2022-03-02   \n",
       "25      EMP1025   Employee_25  Marketing    Manager  123709   2019-12-28   \n",
       "..          ...           ...        ...        ...     ...          ...   \n",
       "469     EMP1469  Employee_469        R&D  Executive  104666   2024-05-29   \n",
       "478     EMP1478  Employee_478         IT    Analyst  116123   2024-03-28   \n",
       "483     EMP1483  Employee_483        R&D    Manager  118929   2018-01-28   \n",
       "487     EMP1487  Employee_487      Sales    Manager  144618   2023-08-09   \n",
       "494     EMP1494  Employee_494  Marketing    Manager  124006   2018-09-27   \n",
       "\n",
       "    Performance_Rating  Leaves_Taken  Attendance_Rate  Age  Experience_Years  \n",
       "4                 Good            15            78.85   44                 0  \n",
       "15           Excellent            16            93.48   42                 5  \n",
       "19           Excellent             1            80.51   42                 6  \n",
       "23           Excellent            10            72.16   31                 3  \n",
       "25                Good            18            97.53   58                 5  \n",
       "..                 ...           ...              ...  ...               ...  \n",
       "469               Good             1            75.51   43                 1  \n",
       "478               Good             2            98.03   41                 1  \n",
       "483          Excellent            15            85.77   43                 7  \n",
       "487               Good            25            80.02   48                 1  \n",
       "494          Excellent             8            90.70   23                 6  \n",
       "\n",
       "[121 rows x 11 columns]"
      ]
     },
     "execution_count": 91,
     "metadata": {},
     "output_type": "execute_result"
    }
   ],
   "source": [
    "#14. Filter all employees with \"Good\" or \"Excellent\" performance and salary > 100000.\n",
    "filter=data[((data['Performance_Rating'] == 'Good') | (data['Performance_Rating'] == 'Excellent')) & (data['Salary'] > 100000)]\n",
    "filter\n"
   ]
  },
  {
   "cell_type": "code",
   "execution_count": 93,
   "id": "e0b7b0bb-6fd9-4e35-bb54-6b0c54138779",
   "metadata": {},
   "outputs": [
    {
     "data": {
      "text/plain": [
       "Position\n",
       "Analyst      84771.0\n",
       "Executive    89052.0\n",
       "Intern       83302.0\n",
       "Manager      87545.0\n",
       "Team Lead    90076.5\n",
       "Name: Salary, dtype: float64"
      ]
     },
     "execution_count": 93,
     "metadata": {},
     "output_type": "execute_result"
    }
   ],
   "source": [
    "#15. Find the median salary for each position.\n",
    "median_salary=data.groupby('Position')['Salary'].median()\n",
    "median_salary\n"
   ]
  },
  {
   "cell_type": "code",
   "execution_count": 94,
   "id": "98191506-3772-4ddc-8da1-0dcddabaaa3d",
   "metadata": {},
   "outputs": [
    {
     "data": {
      "text/html": [
       "<div>\n",
       "<style scoped>\n",
       "    .dataframe tbody tr th:only-of-type {\n",
       "        vertical-align: middle;\n",
       "    }\n",
       "\n",
       "    .dataframe tbody tr th {\n",
       "        vertical-align: top;\n",
       "    }\n",
       "\n",
       "    .dataframe thead th {\n",
       "        text-align: right;\n",
       "    }\n",
       "</style>\n",
       "<table border=\"1\" class=\"dataframe\">\n",
       "  <thead>\n",
       "    <tr style=\"text-align: right;\">\n",
       "      <th>Position</th>\n",
       "      <th>Analyst</th>\n",
       "      <th>Executive</th>\n",
       "      <th>Intern</th>\n",
       "      <th>Manager</th>\n",
       "      <th>Team Lead</th>\n",
       "    </tr>\n",
       "    <tr>\n",
       "      <th>Department</th>\n",
       "      <th></th>\n",
       "      <th></th>\n",
       "      <th></th>\n",
       "      <th></th>\n",
       "      <th></th>\n",
       "    </tr>\n",
       "  </thead>\n",
       "  <tbody>\n",
       "    <tr>\n",
       "      <th>Finance</th>\n",
       "      <td>85327.500000</td>\n",
       "      <td>97744.200000</td>\n",
       "      <td>89029.062500</td>\n",
       "      <td>100239.307692</td>\n",
       "      <td>100313.529412</td>\n",
       "    </tr>\n",
       "    <tr>\n",
       "      <th>HR</th>\n",
       "      <td>92469.666667</td>\n",
       "      <td>80344.375000</td>\n",
       "      <td>83446.695652</td>\n",
       "      <td>98367.526316</td>\n",
       "      <td>88501.181818</td>\n",
       "    </tr>\n",
       "    <tr>\n",
       "      <th>IT</th>\n",
       "      <td>81632.750000</td>\n",
       "      <td>94170.210526</td>\n",
       "      <td>82366.000000</td>\n",
       "      <td>84095.285714</td>\n",
       "      <td>90658.700000</td>\n",
       "    </tr>\n",
       "    <tr>\n",
       "      <th>Marketing</th>\n",
       "      <td>88256.625000</td>\n",
       "      <td>66981.272727</td>\n",
       "      <td>72602.076923</td>\n",
       "      <td>90343.235294</td>\n",
       "      <td>82413.277778</td>\n",
       "    </tr>\n",
       "    <tr>\n",
       "      <th>R&amp;D</th>\n",
       "      <td>77091.000000</td>\n",
       "      <td>89672.375000</td>\n",
       "      <td>93649.142857</td>\n",
       "      <td>84829.368421</td>\n",
       "      <td>93351.052632</td>\n",
       "    </tr>\n",
       "    <tr>\n",
       "      <th>Sales</th>\n",
       "      <td>74246.400000</td>\n",
       "      <td>98177.625000</td>\n",
       "      <td>88428.692308</td>\n",
       "      <td>90111.782609</td>\n",
       "      <td>89425.727273</td>\n",
       "    </tr>\n",
       "  </tbody>\n",
       "</table>\n",
       "</div>"
      ],
      "text/plain": [
       "Position         Analyst     Executive        Intern        Manager  \\\n",
       "Department                                                            \n",
       "Finance     85327.500000  97744.200000  89029.062500  100239.307692   \n",
       "HR          92469.666667  80344.375000  83446.695652   98367.526316   \n",
       "IT          81632.750000  94170.210526  82366.000000   84095.285714   \n",
       "Marketing   88256.625000  66981.272727  72602.076923   90343.235294   \n",
       "R&D         77091.000000  89672.375000  93649.142857   84829.368421   \n",
       "Sales       74246.400000  98177.625000  88428.692308   90111.782609   \n",
       "\n",
       "Position        Team Lead  \n",
       "Department                 \n",
       "Finance     100313.529412  \n",
       "HR           88501.181818  \n",
       "IT           90658.700000  \n",
       "Marketing    82413.277778  \n",
       "R&D          93351.052632  \n",
       "Sales        89425.727273  "
      ]
     },
     "execution_count": 94,
     "metadata": {},
     "output_type": "execute_result"
    }
   ],
   "source": [
    "#16. Create a pivot table showing average salary by Department and Position.\n",
    "pivot_table=data.pivot_table(values='Salary', index='Department', columns='Position', aggfunc='mean')\n",
    "pivot_table\n"
   ]
  },
  {
   "cell_type": "code",
   "execution_count": 95,
   "id": "8c148cc3-74c3-426e-9867-fac6d2b4c6bb",
   "metadata": {},
   "outputs": [
    {
     "data": {
      "text/plain": [
       "Performance_Rating\n",
       "Good         40.6\n",
       "Average      29.8\n",
       "Excellent    21.0\n",
       "Poor          8.6\n",
       "Name: proportion, dtype: float64"
      ]
     },
     "execution_count": 95,
     "metadata": {},
     "output_type": "execute_result"
    }
   ],
   "source": [
    "#17. What percentage of employees are in each performance rating category?\n",
    "percentage=data['Performance_Rating'].value_counts(normalize=True) * 100\n",
    "percentage\n"
   ]
  },
  {
   "cell_type": "code",
   "execution_count": 96,
   "id": "7be18648-9474-45f8-809d-eb3357327098",
   "metadata": {},
   "outputs": [
    {
     "data": {
      "text/html": [
       "<div>\n",
       "<style scoped>\n",
       "    .dataframe tbody tr th:only-of-type {\n",
       "        vertical-align: middle;\n",
       "    }\n",
       "\n",
       "    .dataframe tbody tr th {\n",
       "        vertical-align: top;\n",
       "    }\n",
       "\n",
       "    .dataframe thead th {\n",
       "        text-align: right;\n",
       "    }\n",
       "</style>\n",
       "<table border=\"1\" class=\"dataframe\">\n",
       "  <thead>\n",
       "    <tr style=\"text-align: right;\">\n",
       "      <th></th>\n",
       "      <th>Employee_ID</th>\n",
       "      <th>Name</th>\n",
       "      <th>Department</th>\n",
       "      <th>Position</th>\n",
       "      <th>Salary</th>\n",
       "      <th>Joining_Date</th>\n",
       "      <th>Performance_Rating</th>\n",
       "      <th>Leaves_Taken</th>\n",
       "      <th>Attendance_Rate</th>\n",
       "      <th>Age</th>\n",
       "      <th>Experience_Years</th>\n",
       "    </tr>\n",
       "  </thead>\n",
       "  <tbody>\n",
       "    <tr>\n",
       "      <th>4</th>\n",
       "      <td>EMP1004</td>\n",
       "      <td>Employee_4</td>\n",
       "      <td>Marketing</td>\n",
       "      <td>Team Lead</td>\n",
       "      <td>117388</td>\n",
       "      <td>2024-08-18</td>\n",
       "      <td>Good</td>\n",
       "      <td>15</td>\n",
       "      <td>78.85</td>\n",
       "      <td>44</td>\n",
       "      <td>0</td>\n",
       "    </tr>\n",
       "    <tr>\n",
       "      <th>7</th>\n",
       "      <td>EMP1007</td>\n",
       "      <td>Employee_7</td>\n",
       "      <td>IT</td>\n",
       "      <td>Intern</td>\n",
       "      <td>88596</td>\n",
       "      <td>2024-11-18</td>\n",
       "      <td>Good</td>\n",
       "      <td>19</td>\n",
       "      <td>65.05</td>\n",
       "      <td>45</td>\n",
       "      <td>0</td>\n",
       "    </tr>\n",
       "    <tr>\n",
       "      <th>9</th>\n",
       "      <td>EMP1009</td>\n",
       "      <td>Employee_9</td>\n",
       "      <td>Marketing</td>\n",
       "      <td>Analyst</td>\n",
       "      <td>118861</td>\n",
       "      <td>2021-07-15</td>\n",
       "      <td>Average</td>\n",
       "      <td>21</td>\n",
       "      <td>73.00</td>\n",
       "      <td>28</td>\n",
       "      <td>4</td>\n",
       "    </tr>\n",
       "    <tr>\n",
       "      <th>20</th>\n",
       "      <td>EMP1020</td>\n",
       "      <td>Employee_20</td>\n",
       "      <td>Marketing</td>\n",
       "      <td>Intern</td>\n",
       "      <td>114056</td>\n",
       "      <td>2018-12-01</td>\n",
       "      <td>Average</td>\n",
       "      <td>20</td>\n",
       "      <td>72.21</td>\n",
       "      <td>56</td>\n",
       "      <td>6</td>\n",
       "    </tr>\n",
       "    <tr>\n",
       "      <th>22</th>\n",
       "      <td>EMP1022</td>\n",
       "      <td>Employee_22</td>\n",
       "      <td>Sales</td>\n",
       "      <td>Analyst</td>\n",
       "      <td>89207</td>\n",
       "      <td>2018-05-17</td>\n",
       "      <td>Excellent</td>\n",
       "      <td>19</td>\n",
       "      <td>61.33</td>\n",
       "      <td>31</td>\n",
       "      <td>7</td>\n",
       "    </tr>\n",
       "    <tr>\n",
       "      <th>...</th>\n",
       "      <td>...</td>\n",
       "      <td>...</td>\n",
       "      <td>...</td>\n",
       "      <td>...</td>\n",
       "      <td>...</td>\n",
       "      <td>...</td>\n",
       "      <td>...</td>\n",
       "      <td>...</td>\n",
       "      <td>...</td>\n",
       "      <td>...</td>\n",
       "      <td>...</td>\n",
       "    </tr>\n",
       "    <tr>\n",
       "      <th>469</th>\n",
       "      <td>EMP1469</td>\n",
       "      <td>Employee_469</td>\n",
       "      <td>R&amp;D</td>\n",
       "      <td>Executive</td>\n",
       "      <td>104666</td>\n",
       "      <td>2024-05-29</td>\n",
       "      <td>Good</td>\n",
       "      <td>1</td>\n",
       "      <td>75.51</td>\n",
       "      <td>43</td>\n",
       "      <td>1</td>\n",
       "    </tr>\n",
       "    <tr>\n",
       "      <th>472</th>\n",
       "      <td>EMP1472</td>\n",
       "      <td>Employee_472</td>\n",
       "      <td>Marketing</td>\n",
       "      <td>Analyst</td>\n",
       "      <td>140616</td>\n",
       "      <td>2022-03-06</td>\n",
       "      <td>Average</td>\n",
       "      <td>11</td>\n",
       "      <td>60.17</td>\n",
       "      <td>50</td>\n",
       "      <td>3</td>\n",
       "    </tr>\n",
       "    <tr>\n",
       "      <th>480</th>\n",
       "      <td>EMP1480</td>\n",
       "      <td>Employee_480</td>\n",
       "      <td>Finance</td>\n",
       "      <td>Manager</td>\n",
       "      <td>105186</td>\n",
       "      <td>2018-05-10</td>\n",
       "      <td>Average</td>\n",
       "      <td>27</td>\n",
       "      <td>71.92</td>\n",
       "      <td>23</td>\n",
       "      <td>7</td>\n",
       "    </tr>\n",
       "    <tr>\n",
       "      <th>481</th>\n",
       "      <td>EMP1481</td>\n",
       "      <td>Employee_481</td>\n",
       "      <td>IT</td>\n",
       "      <td>Team Lead</td>\n",
       "      <td>115469</td>\n",
       "      <td>2020-04-17</td>\n",
       "      <td>Average</td>\n",
       "      <td>29</td>\n",
       "      <td>64.21</td>\n",
       "      <td>51</td>\n",
       "      <td>5</td>\n",
       "    </tr>\n",
       "    <tr>\n",
       "      <th>488</th>\n",
       "      <td>EMP1488</td>\n",
       "      <td>Employee_488</td>\n",
       "      <td>Marketing</td>\n",
       "      <td>Team Lead</td>\n",
       "      <td>99626</td>\n",
       "      <td>2022-01-12</td>\n",
       "      <td>Excellent</td>\n",
       "      <td>29</td>\n",
       "      <td>77.31</td>\n",
       "      <td>31</td>\n",
       "      <td>3</td>\n",
       "    </tr>\n",
       "  </tbody>\n",
       "</table>\n",
       "<p>114 rows × 11 columns</p>\n",
       "</div>"
      ],
      "text/plain": [
       "    Employee_ID          Name Department   Position  Salary Joining_Date  \\\n",
       "4       EMP1004    Employee_4  Marketing  Team Lead  117388   2024-08-18   \n",
       "7       EMP1007    Employee_7         IT     Intern   88596   2024-11-18   \n",
       "9       EMP1009    Employee_9  Marketing    Analyst  118861   2021-07-15   \n",
       "20      EMP1020   Employee_20  Marketing     Intern  114056   2018-12-01   \n",
       "22      EMP1022   Employee_22      Sales    Analyst   89207   2018-05-17   \n",
       "..          ...           ...        ...        ...     ...          ...   \n",
       "469     EMP1469  Employee_469        R&D  Executive  104666   2024-05-29   \n",
       "472     EMP1472  Employee_472  Marketing    Analyst  140616   2022-03-06   \n",
       "480     EMP1480  Employee_480    Finance    Manager  105186   2018-05-10   \n",
       "481     EMP1481  Employee_481         IT  Team Lead  115469   2020-04-17   \n",
       "488     EMP1488  Employee_488  Marketing  Team Lead   99626   2022-01-12   \n",
       "\n",
       "    Performance_Rating  Leaves_Taken  Attendance_Rate  Age  Experience_Years  \n",
       "4                 Good            15            78.85   44                 0  \n",
       "7                 Good            19            65.05   45                 0  \n",
       "9              Average            21            73.00   28                 4  \n",
       "20             Average            20            72.21   56                 6  \n",
       "22           Excellent            19            61.33   31                 7  \n",
       "..                 ...           ...              ...  ...               ...  \n",
       "469               Good             1            75.51   43                 1  \n",
       "472            Average            11            60.17   50                 3  \n",
       "480            Average            27            71.92   23                 7  \n",
       "481            Average            29            64.21   51                 5  \n",
       "488          Excellent            29            77.31   31                 3  \n",
       "\n",
       "[114 rows x 11 columns]"
      ]
     },
     "execution_count": 96,
     "metadata": {},
     "output_type": "execute_result"
    }
   ],
   "source": [
    "#18. List employees with above average salary and below average attendance.\n",
    "employes_average=data[(data['Salary'] > data['Salary'].mean()) & (data['Attendance_Rate'] < data['Attendance_Rate'].mean())]\n",
    "employes_average\n"
   ]
  },
  {
   "cell_type": "code",
   "execution_count": null,
   "id": "74c54c32-02d7-4d91-92df-c4225567383f",
   "metadata": {},
   "outputs": [],
   "source": []
  },
  {
   "cell_type": "code",
   "execution_count": null,
   "id": "becfae1a-9864-4b6e-bc8c-3802cc32666f",
   "metadata": {},
   "outputs": [],
   "source": []
  },
  {
   "cell_type": "code",
   "execution_count": null,
   "id": "979abd0c-4310-417a-ae75-cd7d129bface",
   "metadata": {},
   "outputs": [],
   "source": []
  }
 ],
 "metadata": {
  "kernelspec": {
   "display_name": "Python 3",
   "language": "python",
   "name": "python3"
  },
  "language_info": {
   "codemirror_mode": {
    "name": "ipython",
    "version": 3
   },
   "file_extension": ".py",
   "mimetype": "text/x-python",
   "name": "python",
   "nbconvert_exporter": "python",
   "pygments_lexer": "ipython3",
   "version": "3.11.8"
  }
 },
 "nbformat": 4,
 "nbformat_minor": 5
}
