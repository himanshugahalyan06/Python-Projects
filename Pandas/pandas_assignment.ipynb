{
 "cells": [
  {
   "cell_type": "code",
   "execution_count": 48,
   "id": "88a00d42-d4ea-446f-90fc-ee936745c22d",
   "metadata": {},
   "outputs": [],
   "source": [
    "#Q1: Find the top 5 products by total sales (Net Sales).\n",
    "import pandas as pd\n"
   ]
  },
  {
   "cell_type": "code",
   "execution_count": 49,
   "id": "07b24802-b0f9-4108-a75a-d0c46df4801f",
   "metadata": {},
   "outputs": [
    {
     "data": {
      "text/plain": [
       "Index(['Date', 'Customer Name', 'Region', 'Category', 'Product',\n",
       "       'Quantity Sold', 'Unit Price', 'Total Price', 'Discount', 'Net Sales',\n",
       "       'Payment Mode'],\n",
       "      dtype='object')"
      ]
     },
     "execution_count": 49,
     "metadata": {},
     "output_type": "execute_result"
    }
   ],
   "source": [
    "data=pd.read_csv(\"C:\\\\Users\\\\Himanshu\\\\OneDrive\\\\Desktop\\\\Summer Internship 2025\\\\Pandas\\\\sales_data_500.csv\")\n",
    "data.columns\n"
   ]
  },
  {
   "cell_type": "code",
   "execution_count": 50,
   "id": "7b6672be-fbc8-40f7-bd5a-fa68f3a768ba",
   "metadata": {},
   "outputs": [
    {
     "data": {
      "text/plain": [
       "Product\n",
       "Non-Fiction      52405.52\n",
       "Comics           50612.78\n",
       "Board Game       45833.81\n",
       "Action Figure    41478.24\n",
       "Cookware         41032.68\n",
       "Name: Net Sales, dtype: float64"
      ]
     },
     "execution_count": 50,
     "metadata": {},
     "output_type": "execute_result"
    }
   ],
   "source": [
    "top_5=data.groupby('Product')['Net Sales'].sum().sort_values(ascending=False).head()\n",
    "top_5\n"
   ]
  },
  {
   "cell_type": "code",
   "execution_count": 51,
   "id": "56943709-66e3-4cfa-8c00-682c3b011122",
   "metadata": {},
   "outputs": [
    {
     "data": {
      "text/plain": [
       "Index(['Date', 'Customer Name', 'Region', 'Category', 'Product',\n",
       "       'Quantity Sold', 'Unit Price', 'Total Price', 'Discount', 'Net Sales',\n",
       "       'Payment Mode'],\n",
       "      dtype='object')"
      ]
     },
     "execution_count": 51,
     "metadata": {},
     "output_type": "execute_result"
    }
   ],
   "source": [
    "#Q2: Get the region with the highest average discount per order.\n",
    "data.columns\n"
   ]
  },
  {
   "cell_type": "code",
   "execution_count": 52,
   "id": "0e399ec9-c4ba-4838-9cb8-4ebc89023f1a",
   "metadata": {},
   "outputs": [
    {
     "data": {
      "text/plain": [
       "Region\n",
       "West    240.227829\n",
       "Name: Discount, dtype: float64"
      ]
     },
     "execution_count": 52,
     "metadata": {},
     "output_type": "execute_result"
    }
   ],
   "source": [
    "data.groupby('Region')['Discount'].mean().sort_values(ascending=False).head(1)\n"
   ]
  },
  {
   "cell_type": "code",
   "execution_count": 53,
   "id": "0195de60-0838-488b-881f-17689ee7dc29",
   "metadata": {},
   "outputs": [
    {
     "data": {
      "text/plain": [
       "Month\n",
       "1     62759.40\n",
       "2     40027.82\n",
       "3     59276.48\n",
       "4     51967.59\n",
       "5     75712.20\n",
       "6     46776.18\n",
       "7     60229.14\n",
       "8     22605.51\n",
       "9     52499.23\n",
       "10    62067.16\n",
       "11    38831.58\n",
       "12    61877.74\n",
       "Name: Net Sales, dtype: float64"
      ]
     },
     "execution_count": 53,
     "metadata": {},
     "output_type": "execute_result"
    }
   ],
   "source": [
    "#Q3: Extract month from 'Date' and find total sales per month.\n",
    "\n",
    "data['Month']=pd.to_datetime(data['Date']).dt.month\n",
    "monthly_sales=data.groupby('Month')['Net Sales'].sum()\n",
    "monthly_sales\n"
   ]
  },
  {
   "cell_type": "code",
   "execution_count": 54,
   "id": "46ce9587-f74b-429e-ba85-286f8be718a9",
   "metadata": {},
   "outputs": [
    {
     "data": {
      "text/plain": [
       "Index(['Date', 'Customer Name', 'Region', 'Category', 'Product',\n",
       "       'Quantity Sold', 'Unit Price', 'Total Price', 'Discount', 'Net Sales',\n",
       "       'Payment Mode', 'Month'],\n",
       "      dtype='object')"
      ]
     },
     "execution_count": 54,
     "metadata": {},
     "output_type": "execute_result"
    }
   ],
   "source": [
    "#Q4: Get total quantity sold by each product category.\n",
    "data.columns\n"
   ]
  },
  {
   "cell_type": "code",
   "execution_count": 55,
   "id": "ffec94df-1efd-44f3-a3b7-c8c2fd470b19",
   "metadata": {},
   "outputs": [
    {
     "data": {
      "text/plain": [
       "Category\n",
       "Books             714\n",
       "Clothing          564\n",
       "Electronics       570\n",
       "Home & Kitchen    454\n",
       "Toys              596\n",
       "Name: Quantity Sold, dtype: int64"
      ]
     },
     "execution_count": 55,
     "metadata": {},
     "output_type": "execute_result"
    }
   ],
   "source": [
    "data.groupby('Category')['Quantity Sold'].sum()\n"
   ]
  },
  {
   "cell_type": "code",
   "execution_count": 56,
   "id": "aaeef45b-bff7-457a-9d80-ae33e5d423b9",
   "metadata": {},
   "outputs": [
    {
     "data": {
      "text/plain": [
       "Category\n",
       "Books             4\n",
       "Clothing          4\n",
       "Electronics       4\n",
       "Home & Kitchen    4\n",
       "Toys              4\n",
       "Name: Product, dtype: int64"
      ]
     },
     "execution_count": 56,
     "metadata": {},
     "output_type": "execute_result"
    }
   ],
   "source": [
    "#Q5: Count how many unique products were sold in each category.\n",
    "data.groupby('Category')['Product'].nunique()\n"
   ]
  },
  {
   "cell_type": "code",
   "execution_count": 62,
   "id": "d18d7dbc-15fe-4054-aa6d-8d83c270f4d6",
   "metadata": {},
   "outputs": [
    {
     "data": {
      "text/plain": [
       "Region\n",
       "East     Debit Card\n",
       "North           UPI\n",
       "South           UPI\n",
       "West            UPI\n",
       "Name: Payment Mode, dtype: object"
      ]
     },
     "execution_count": 62,
     "metadata": {},
     "output_type": "execute_result"
    }
   ],
   "source": [
    "# #Q6: Find the most common payment mode in each region.\n",
    "\n",
    "data.groupby('Region')['Payment Mode'].agg(lambda x:x.mode()[0])\n",
    "\n",
    "# data.groupby('Region')['Payment Mode'].agg(lambda x:x.mode()).iloc[0]\n"
   ]
  },
  {
   "cell_type": "code",
   "execution_count": null,
   "id": "6c7502d0-57bd-48b0-b295-bbf49af80b0e",
   "metadata": {},
   "outputs": [
    {
     "data": {
      "text/plain": [
       "Index(['Date', 'Customer Name', 'Region', 'Category', 'Product',\n",
       "       'Quantity Sold', 'Unit Price', 'Total Price', 'Discount', 'Net Sales',\n",
       "       'Payment Mode'],\n",
       "      dtype='object')"
      ]
     },
     "execution_count": 30,
     "metadata": {},
     "output_type": "execute_result"
    }
   ],
   "source": [
    "#Q7: Calculate the average discount percentage for each product.\n",
    "data.columns \n"
   ]
  },
  {
   "cell_type": "code",
   "execution_count": null,
   "id": "7df8656d-1c7c-4b9a-9987-e9052dbf5bcb",
   "metadata": {},
   "outputs": [
    {
     "name": "stdout",
     "output_type": "stream",
     "text": [
      "Product\n",
      "Action Figure    14.723067\n",
      "Biography        13.112614\n",
      "Blender          14.466039\n",
      "Board Game       13.727034\n",
      "Camera           16.907377\n",
      "Comics           13.711644\n",
      "Cookware         14.396278\n",
      "Doll             16.746377\n",
      "Dress            18.935381\n",
      "Fiction          12.812109\n",
      "Headphones       14.394025\n",
      "Jacket           13.586356\n",
      "Jeans            14.822704\n",
      "Laptop           16.441650\n",
      "Mixer            14.562095\n",
      "Non-Fiction      16.295903\n",
      "Puzzle           15.431320\n",
      "Smartphone       14.002743\n",
      "T-shirt          13.762615\n",
      "Toaster          15.592909\n",
      "Name: Discount %, dtype: float64\n"
     ]
    }
   ],
   "source": [
    "data['Discount %'] = (data['Discount'] / data['Total Price']) * 100\n",
    "\n",
    "avg_discount = data.groupby('Product')['Discount %'].mean()\n",
    "print(avg_discount)\n",
    "\n"
   ]
  },
  {
   "cell_type": "code",
   "execution_count": 69,
   "id": "2f6e9ea9-56d7-4202-9b0a-7354164abc1b",
   "metadata": {},
   "outputs": [
    {
     "data": {
      "text/html": [
       "<div>\n",
       "<style scoped>\n",
       "    .dataframe tbody tr th:only-of-type {\n",
       "        vertical-align: middle;\n",
       "    }\n",
       "\n",
       "    .dataframe tbody tr th {\n",
       "        vertical-align: top;\n",
       "    }\n",
       "\n",
       "    .dataframe thead th {\n",
       "        text-align: right;\n",
       "    }\n",
       "</style>\n",
       "<table border=\"1\" class=\"dataframe\">\n",
       "  <thead>\n",
       "    <tr style=\"text-align: right;\">\n",
       "      <th></th>\n",
       "      <th>Date</th>\n",
       "      <th>Customer Name</th>\n",
       "      <th>Region</th>\n",
       "      <th>Category</th>\n",
       "      <th>Product</th>\n",
       "      <th>Quantity Sold</th>\n",
       "      <th>Unit Price</th>\n",
       "      <th>Total Price</th>\n",
       "      <th>Discount</th>\n",
       "      <th>Net Sales</th>\n",
       "      <th>Payment Mode</th>\n",
       "      <th>Month</th>\n",
       "      <th>profit</th>\n",
       "      <th>Profit</th>\n",
       "    </tr>\n",
       "  </thead>\n",
       "  <tbody>\n",
       "    <tr>\n",
       "      <th>15</th>\n",
       "      <td>2024-11-16</td>\n",
       "      <td>John Montgomery</td>\n",
       "      <td>South</td>\n",
       "      <td>Home &amp; Kitchen</td>\n",
       "      <td>Blender</td>\n",
       "      <td>8</td>\n",
       "      <td>195.21</td>\n",
       "      <td>1561.68</td>\n",
       "      <td>263.55</td>\n",
       "      <td>1298.13</td>\n",
       "      <td>UPI</td>\n",
       "      <td>11</td>\n",
       "      <td>129.813</td>\n",
       "      <td>129.813</td>\n",
       "    </tr>\n",
       "    <tr>\n",
       "      <th>16</th>\n",
       "      <td>2025-02-26</td>\n",
       "      <td>Lisa Davis</td>\n",
       "      <td>South</td>\n",
       "      <td>Books</td>\n",
       "      <td>Fiction</td>\n",
       "      <td>10</td>\n",
       "      <td>14.46</td>\n",
       "      <td>144.60</td>\n",
       "      <td>16.27</td>\n",
       "      <td>128.33</td>\n",
       "      <td>UPI</td>\n",
       "      <td>2</td>\n",
       "      <td>12.833</td>\n",
       "      <td>12.833</td>\n",
       "    </tr>\n",
       "    <tr>\n",
       "      <th>22</th>\n",
       "      <td>2024-12-03</td>\n",
       "      <td>Gloria Bowers</td>\n",
       "      <td>South</td>\n",
       "      <td>Books</td>\n",
       "      <td>Comics</td>\n",
       "      <td>9</td>\n",
       "      <td>260.01</td>\n",
       "      <td>2340.09</td>\n",
       "      <td>199.75</td>\n",
       "      <td>2140.34</td>\n",
       "      <td>UPI</td>\n",
       "      <td>12</td>\n",
       "      <td>214.034</td>\n",
       "      <td>214.034</td>\n",
       "    </tr>\n",
       "    <tr>\n",
       "      <th>48</th>\n",
       "      <td>2025-01-06</td>\n",
       "      <td>Nancy Marsh</td>\n",
       "      <td>West</td>\n",
       "      <td>Books</td>\n",
       "      <td>Biography</td>\n",
       "      <td>9</td>\n",
       "      <td>469.29</td>\n",
       "      <td>4223.61</td>\n",
       "      <td>1209.56</td>\n",
       "      <td>3014.05</td>\n",
       "      <td>UPI</td>\n",
       "      <td>1</td>\n",
       "      <td>301.405</td>\n",
       "      <td>301.405</td>\n",
       "    </tr>\n",
       "    <tr>\n",
       "      <th>55</th>\n",
       "      <td>2025-05-01</td>\n",
       "      <td>Maureen Lee</td>\n",
       "      <td>South</td>\n",
       "      <td>Clothing</td>\n",
       "      <td>Jeans</td>\n",
       "      <td>8</td>\n",
       "      <td>460.62</td>\n",
       "      <td>3684.96</td>\n",
       "      <td>448.54</td>\n",
       "      <td>3236.42</td>\n",
       "      <td>UPI</td>\n",
       "      <td>5</td>\n",
       "      <td>323.642</td>\n",
       "      <td>323.642</td>\n",
       "    </tr>\n",
       "  </tbody>\n",
       "</table>\n",
       "</div>"
      ],
      "text/plain": [
       "          Date    Customer Name Region        Category    Product  \\\n",
       "15  2024-11-16  John Montgomery  South  Home & Kitchen    Blender   \n",
       "16  2025-02-26       Lisa Davis  South           Books    Fiction   \n",
       "22  2024-12-03    Gloria Bowers  South           Books     Comics   \n",
       "48  2025-01-06      Nancy Marsh   West           Books  Biography   \n",
       "55  2025-05-01      Maureen Lee  South        Clothing      Jeans   \n",
       "\n",
       "    Quantity Sold  Unit Price  Total Price  Discount  Net Sales Payment Mode  \\\n",
       "15              8      195.21      1561.68    263.55    1298.13          UPI   \n",
       "16             10       14.46       144.60     16.27     128.33          UPI   \n",
       "22              9      260.01      2340.09    199.75    2140.34          UPI   \n",
       "48              9      469.29      4223.61   1209.56    3014.05          UPI   \n",
       "55              8      460.62      3684.96    448.54    3236.42          UPI   \n",
       "\n",
       "    Month   profit   Profit  \n",
       "15     11  129.813  129.813  \n",
       "16      2   12.833   12.833  \n",
       "22     12  214.034  214.034  \n",
       "48      1  301.405  301.405  \n",
       "55      5  323.642  323.642  "
      ]
     },
     "execution_count": 69,
     "metadata": {},
     "output_type": "execute_result"
    }
   ],
   "source": [
    "#Q8: Filter records where quantity sold is more than 5 and payment mode is ‘UPI’.\n",
    "\n",
    "data[(data['Quantity Sold']>5) & (data['Payment Mode']=='UPI')].head()\n",
    "\n"
   ]
  },
  {
   "cell_type": "code",
   "execution_count": 74,
   "id": "a9e3be65-946d-461c-95b2-3880cca2ee2f",
   "metadata": {},
   "outputs": [
    {
     "name": "stdout",
     "output_type": "stream",
     "text": [
      "       Product  Net Sales   Profit\n",
      "0   Headphones     651.77   65.177\n",
      "1   Board Game     264.99   26.499\n",
      "2   Board Game    1329.78  132.978\n",
      "3      T-shirt     181.29   18.129\n",
      "4  Non-Fiction    2970.80  297.080\n"
     ]
    }
   ],
   "source": [
    "#Q9: Create a new column 'Profit' assuming profit is 10% of Net Sales.\n",
    "data['Profit']=data['Net Sales']*0.10\n",
    "print(data[['Product','Net Sales','Profit']].head())\n",
    "\n"
   ]
  },
  {
   "cell_type": "code",
   "execution_count": null,
   "id": "ec2c9624-5b49-4464-9149-1f05933f9650",
   "metadata": {},
   "outputs": [],
   "source": [
    "#Q10: Get total sales per product per region using pivot table.\n",
    "\n"
   ]
  },
  {
   "cell_type": "code",
   "execution_count": null,
   "id": "4c2615d2-65fb-4f65-a81e-a86ce64883f6",
   "metadata": {},
   "outputs": [],
   "source": []
  },
  {
   "cell_type": "code",
   "execution_count": 81,
   "id": "8b9d2e03-3432-4e44-a5e9-d49ba37640c2",
   "metadata": {},
   "outputs": [
    {
     "data": {
      "text/plain": [
       "33     4471.02\n",
       "289    4106.98\n",
       "183    4025.32\n",
       "140    4004.30\n",
       "162    3971.40\n",
       "448    3950.53\n",
       "5      3872.24\n",
       "394    3852.07\n",
       "270    3839.66\n",
       "483    3833.07\n",
       "Name: Net Sales, dtype: float64"
      ]
     },
     "execution_count": 81,
     "metadata": {},
     "output_type": "execute_result"
    }
   ],
   "source": [
    "#Q11: Sort data by Net Sales and show top 10 entries.\n",
    "top_10=data['Net Sales'].sort_values(ascending=False).head(10)\n",
    "top_10\n"
   ]
  },
  {
   "cell_type": "code",
   "execution_count": 95,
   "id": "0e190c1a-2dd0-4a59-b073-7a9b1a7d9b34",
   "metadata": {},
   "outputs": [
    {
     "data": {
      "text/html": [
       "<div>\n",
       "<style scoped>\n",
       "    .dataframe tbody tr th:only-of-type {\n",
       "        vertical-align: middle;\n",
       "    }\n",
       "\n",
       "    .dataframe tbody tr th {\n",
       "        vertical-align: top;\n",
       "    }\n",
       "\n",
       "    .dataframe thead th {\n",
       "        text-align: right;\n",
       "    }\n",
       "</style>\n",
       "<table border=\"1\" class=\"dataframe\">\n",
       "  <thead>\n",
       "    <tr style=\"text-align: right;\">\n",
       "      <th></th>\n",
       "      <th>Date</th>\n",
       "      <th>Customer Name</th>\n",
       "      <th>Region</th>\n",
       "      <th>Category</th>\n",
       "      <th>Product</th>\n",
       "      <th>Quantity Sold</th>\n",
       "      <th>Unit Price</th>\n",
       "      <th>Total Price</th>\n",
       "      <th>Discount</th>\n",
       "      <th>Net Sales</th>\n",
       "      <th>Payment Mode</th>\n",
       "      <th>Month</th>\n",
       "      <th>profit</th>\n",
       "      <th>Profit</th>\n",
       "    </tr>\n",
       "  </thead>\n",
       "  <tbody>\n",
       "    <tr>\n",
       "      <th>0</th>\n",
       "      <td>2025-01-12</td>\n",
       "      <td>Karl Beck</td>\n",
       "      <td>West</td>\n",
       "      <td>Electronics</td>\n",
       "      <td>Headphones</td>\n",
       "      <td>10</td>\n",
       "      <td>80.66</td>\n",
       "      <td>806.60</td>\n",
       "      <td>154.83</td>\n",
       "      <td>651.77</td>\n",
       "      <td>Net Banking</td>\n",
       "      <td>1</td>\n",
       "      <td>65.177</td>\n",
       "      <td>65.177</td>\n",
       "    </tr>\n",
       "    <tr>\n",
       "      <th>1</th>\n",
       "      <td>2024-09-02</td>\n",
       "      <td>Carol Torres</td>\n",
       "      <td>North</td>\n",
       "      <td>Toys</td>\n",
       "      <td>Board Game</td>\n",
       "      <td>1</td>\n",
       "      <td>303.01</td>\n",
       "      <td>303.01</td>\n",
       "      <td>38.02</td>\n",
       "      <td>264.99</td>\n",
       "      <td>UPI</td>\n",
       "      <td>9</td>\n",
       "      <td>26.499</td>\n",
       "      <td>26.499</td>\n",
       "    </tr>\n",
       "    <tr>\n",
       "      <th>2</th>\n",
       "      <td>2024-10-16</td>\n",
       "      <td>Margaret Jackson</td>\n",
       "      <td>South</td>\n",
       "      <td>Toys</td>\n",
       "      <td>Board Game</td>\n",
       "      <td>10</td>\n",
       "      <td>142.89</td>\n",
       "      <td>1428.90</td>\n",
       "      <td>99.12</td>\n",
       "      <td>1329.78</td>\n",
       "      <td>Credit Card</td>\n",
       "      <td>10</td>\n",
       "      <td>132.978</td>\n",
       "      <td>132.978</td>\n",
       "    </tr>\n",
       "    <tr>\n",
       "      <th>3</th>\n",
       "      <td>2025-04-02</td>\n",
       "      <td>Eric Melendez</td>\n",
       "      <td>North</td>\n",
       "      <td>Clothing</td>\n",
       "      <td>T-shirt</td>\n",
       "      <td>1</td>\n",
       "      <td>244.23</td>\n",
       "      <td>244.23</td>\n",
       "      <td>62.94</td>\n",
       "      <td>181.29</td>\n",
       "      <td>UPI</td>\n",
       "      <td>4</td>\n",
       "      <td>18.129</td>\n",
       "      <td>18.129</td>\n",
       "    </tr>\n",
       "    <tr>\n",
       "      <th>4</th>\n",
       "      <td>2024-11-20</td>\n",
       "      <td>Janice Ramos</td>\n",
       "      <td>North</td>\n",
       "      <td>Books</td>\n",
       "      <td>Non-Fiction</td>\n",
       "      <td>9</td>\n",
       "      <td>436.63</td>\n",
       "      <td>3929.67</td>\n",
       "      <td>958.87</td>\n",
       "      <td>2970.80</td>\n",
       "      <td>Net Banking</td>\n",
       "      <td>11</td>\n",
       "      <td>297.080</td>\n",
       "      <td>297.080</td>\n",
       "    </tr>\n",
       "  </tbody>\n",
       "</table>\n",
       "</div>"
      ],
      "text/plain": [
       "         Date     Customer Name Region     Category      Product  \\\n",
       "0  2025-01-12         Karl Beck   West  Electronics   Headphones   \n",
       "1  2024-09-02      Carol Torres  North         Toys   Board Game   \n",
       "2  2024-10-16  Margaret Jackson  South         Toys   Board Game   \n",
       "3  2025-04-02     Eric Melendez  North     Clothing      T-shirt   \n",
       "4  2024-11-20      Janice Ramos  North        Books  Non-Fiction   \n",
       "\n",
       "   Quantity Sold  Unit Price  Total Price  Discount  Net Sales Payment Mode  \\\n",
       "0             10       80.66       806.60    154.83     651.77  Net Banking   \n",
       "1              1      303.01       303.01     38.02     264.99          UPI   \n",
       "2             10      142.89      1428.90     99.12    1329.78  Credit Card   \n",
       "3              1      244.23       244.23     62.94     181.29          UPI   \n",
       "4              9      436.63      3929.67    958.87    2970.80  Net Banking   \n",
       "\n",
       "   Month   profit   Profit  \n",
       "0      1   65.177   65.177  \n",
       "1      9   26.499   26.499  \n",
       "2     10  132.978  132.978  \n",
       "3      4   18.129   18.129  \n",
       "4     11  297.080  297.080  "
      ]
     },
     "execution_count": 95,
     "metadata": {},
     "output_type": "execute_result"
    }
   ],
   "source": [
    "#Q12: Replace all payment mode values \"Cash\" with \"Offline Cash\".\n",
    "\n",
    "data['Payment Mode'] = data['Payment Mode'].replace('Cash', 'Offline Cash')\n",
    "data.head()\n"
   ]
  },
  {
   "cell_type": "code",
   "execution_count": 96,
   "id": "b2f438c8-1f06-41a1-b845-f8a1b6a93930",
   "metadata": {},
   "outputs": [
    {
     "data": {
      "text/plain": [
       "array(['Net Banking', 'UPI', 'Credit Card', 'Offline Cash', 'Debit Card'],\n",
       "      dtype=object)"
      ]
     },
     "execution_count": 96,
     "metadata": {},
     "output_type": "execute_result"
    }
   ],
   "source": [
    "data['Payment Mode'].unique()\n"
   ]
  },
  {
   "cell_type": "code",
   "execution_count": 98,
   "id": "2169f9f8-bcda-46de-9c20-067dc46463a2",
   "metadata": {},
   "outputs": [
    {
     "data": {
      "text/plain": [
       "Customer Name\n",
       "David Smith       6335.87\n",
       "Daniel Jackson    4471.02\n",
       "Michael Owens     4106.98\n",
       "Terry Henry       4025.32\n",
       "Candace Foster    3971.40\n",
       "Name: Net Sales, dtype: float64"
      ]
     },
     "execution_count": 98,
     "metadata": {},
     "output_type": "execute_result"
    }
   ],
   "source": [
    "#Q13: Find customer who made the highest net purchase.\n",
    "cust_highest=data.groupby('Customer Name')['Net Sales'].sum().sort_values(ascending=False).head(5)\n",
    "cust_highest\n"
   ]
  },
  {
   "cell_type": "code",
   "execution_count": null,
   "id": "38c605a3-88b7-4cc5-9b8b-58c52a2540c5",
   "metadata": {},
   "outputs": [
    {
     "data": {
      "text/plain": [
       "Date             0\n",
       "Customer Name    0\n",
       "Region           0\n",
       "Category         0\n",
       "Product          0\n",
       "Quantity Sold    0\n",
       "Unit Price       0\n",
       "Total Price      0\n",
       "Discount         0\n",
       "Net Sales        0\n",
       "Payment Mode     0\n",
       "Month            0\n",
       "profit           0\n",
       "Profit           0\n",
       "dtype: int64"
      ]
     },
     "execution_count": 102,
     "metadata": {},
     "output_type": "execute_result"
    }
   ],
   "source": [
    "#Q14: Check for any missing values in dataset.\n",
    "\n",
    "# data.isnull().sum()\n",
    "data.isna().sum() ## count missing values \n"
   ]
  },
  {
   "cell_type": "code",
   "execution_count": null,
   "id": "b7faebaf-965b-49cd-865c-6dd6e39a0fae",
   "metadata": {},
   "outputs": [
    {
     "data": {
      "text/html": [
       "<div>\n",
       "<style scoped>\n",
       "    .dataframe tbody tr th:only-of-type {\n",
       "        vertical-align: middle;\n",
       "    }\n",
       "\n",
       "    .dataframe tbody tr th {\n",
       "        vertical-align: top;\n",
       "    }\n",
       "\n",
       "    .dataframe thead th {\n",
       "        text-align: right;\n",
       "    }\n",
       "</style>\n",
       "<table border=\"1\" class=\"dataframe\">\n",
       "  <thead>\n",
       "    <tr style=\"text-align: right;\">\n",
       "      <th></th>\n",
       "      <th>mean</th>\n",
       "      <th>count</th>\n",
       "    </tr>\n",
       "    <tr>\n",
       "      <th>Category</th>\n",
       "      <th></th>\n",
       "      <th></th>\n",
       "    </tr>\n",
       "  </thead>\n",
       "  <tbody>\n",
       "    <tr>\n",
       "      <th>Books</th>\n",
       "      <td>1457.288214</td>\n",
       "      <td>112</td>\n",
       "    </tr>\n",
       "    <tr>\n",
       "      <th>Clothing</th>\n",
       "      <td>1205.697961</td>\n",
       "      <td>103</td>\n",
       "    </tr>\n",
       "    <tr>\n",
       "      <th>Electronics</th>\n",
       "      <td>1123.541789</td>\n",
       "      <td>95</td>\n",
       "    </tr>\n",
       "    <tr>\n",
       "      <th>Home &amp; Kitchen</th>\n",
       "      <td>1083.593908</td>\n",
       "      <td>87</td>\n",
       "    </tr>\n",
       "    <tr>\n",
       "      <th>Toys</th>\n",
       "      <td>1419.589515</td>\n",
       "      <td>103</td>\n",
       "    </tr>\n",
       "  </tbody>\n",
       "</table>\n",
       "</div>"
      ],
      "text/plain": [
       "                       mean  count\n",
       "Category                          \n",
       "Books           1457.288214    112\n",
       "Clothing        1205.697961    103\n",
       "Electronics     1123.541789     95\n",
       "Home & Kitchen  1083.593908     87\n",
       "Toys            1419.589515    103"
      ]
     },
     "execution_count": 104,
     "metadata": {},
     "output_type": "execute_result"
    }
   ],
   "source": [
    "# Q16: Create Category-wise summary report (count,mean,total sales)\n",
    "## agg() in Pandas automatically interprets strings like 'sum', 'mean', 'count' as function names.\n",
    "\n",
    "data.groupby('Category')['Net Sales'].agg(['mean','count'])\n",
    "\n"
   ]
  },
  {
   "cell_type": "code",
   "execution_count": 105,
   "id": "c67c33f9-6c32-4da1-9a70-dfdbc51ba5f3",
   "metadata": {},
   "outputs": [
    {
     "data": {
      "text/plain": [
       "203    1266.71\n",
       "426    1163.07\n",
       "69     1106.91\n",
       "389     882.88\n",
       "492     843.00\n",
       "        ...   \n",
       "394      21.35\n",
       "413      21.18\n",
       "366      14.56\n",
       "177      13.04\n",
       "237       3.41\n",
       "Name: Discount, Length: 74, dtype: float64"
      ]
     },
     "execution_count": 105,
     "metadata": {},
     "output_type": "execute_result"
    }
   ],
   "source": [
    "# Q17: Filter data for 'South' region and unit price >200, then sort by discount\n",
    "data2=data[(data['Region']=='South') & (data['Unit Price']>200)]\n",
    "data2['Discount'].sort_values(ascending=False)\n"
   ]
  },
  {
   "cell_type": "code",
   "execution_count": null,
   "id": "109c2a1f-6fb5-4655-bc85-237b86490e74",
   "metadata": {},
   "outputs": [],
   "source": [
    "# Q18: Find out the average quantity and average net sales grouped by category and Payment mode\n",
    "# Q19: Calculate total discount given in the last 3 months of dataset\n",
    "# Q20: Generate product-wise percentage contribution to total net sales \n",
    "\n"
   ]
  }
 ],
 "metadata": {
  "kernelspec": {
   "display_name": "Python 3",
   "language": "python",
   "name": "python3"
  },
  "language_info": {
   "codemirror_mode": {
    "name": "ipython",
    "version": 3
   },
   "file_extension": ".py",
   "mimetype": "text/x-python",
   "name": "python",
   "nbconvert_exporter": "python",
   "pygments_lexer": "ipython3",
   "version": "3.11.8"
  }
 },
 "nbformat": 4,
 "nbformat_minor": 5
}
