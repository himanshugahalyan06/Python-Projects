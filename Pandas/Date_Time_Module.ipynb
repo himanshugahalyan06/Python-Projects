{
 "cells": [
  {
   "cell_type": "code",
   "execution_count": null,
   "id": "15a75bcd",
   "metadata": {},
   "outputs": [
    {
     "data": {
      "text/plain": [
       "[datetime.date(25, 7, 25), datetime.date(25, 6, 10)]"
      ]
     },
     "execution_count": 5,
     "metadata": {},
     "output_type": "execute_result"
    }
   ],
   "source": [
    "from datetime import date\n",
    "\n",
    "internship=[date(25,7,25),date(25,6,6)]\n",
    "\n",
    "internship\n"
   ]
  },
  {
   "cell_type": "code",
   "execution_count": 7,
   "id": "49ee6918",
   "metadata": {},
   "outputs": [
    {
     "name": "stdout",
     "output_type": "stream",
     "text": [
      "25\n",
      "7\n",
      "25\n"
     ]
    }
   ],
   "source": [
    "print(internship[0].year)\n",
    "print(internship[0].month)\n",
    "print(internship[0].day)\n"
   ]
  },
  {
   "cell_type": "code",
   "execution_count": 9,
   "id": "ca0a4b0c",
   "metadata": {},
   "outputs": [
    {
     "data": {
      "text/plain": [
       "1"
      ]
     },
     "execution_count": 9,
     "metadata": {},
     "output_type": "execute_result"
    }
   ],
   "source": [
    "internship[1].weekday()\n"
   ]
  },
  {
   "cell_type": "code",
   "execution_count": 11,
   "id": "544980c2",
   "metadata": {},
   "outputs": [
    {
     "data": {
      "text/plain": [
       "4"
      ]
     },
     "execution_count": 11,
     "metadata": {},
     "output_type": "execute_result"
    }
   ],
   "source": [
    "internship[0].weekday()\n"
   ]
  },
  {
   "cell_type": "code",
   "execution_count": 14,
   "id": "15d1191c",
   "metadata": {},
   "outputs": [
    {
     "data": {
      "text/plain": [
       "datetime.date(25, 6, 10)"
      ]
     },
     "execution_count": 14,
     "metadata": {},
     "output_type": "execute_result"
    }
   ],
   "source": [
    "## if we have list of dates then we can find minimum date \n",
    "min(internship)\n"
   ]
  },
  {
   "cell_type": "code",
   "execution_count": null,
   "id": "13e29bd3",
   "metadata": {},
   "outputs": [
    {
     "data": {
      "text/plain": [
       "45"
      ]
     },
     "execution_count": 18,
     "metadata": {},
     "output_type": "execute_result"
    }
   ],
   "source": [
    "## subtract two dates \n",
    "num_days=internship[0]-internship[1]\n",
    "\n",
    "num_days.days \n"
   ]
  },
  {
   "cell_type": "code",
   "execution_count": 20,
   "id": "81294a60",
   "metadata": {},
   "outputs": [
    {
     "name": "stdout",
     "output_type": "stream",
     "text": [
      "2025-10-23\n"
     ]
    }
   ],
   "source": [
    "## make time duration between twodates \n",
    "# using delta function \n",
    "from datetime import timedelta\n",
    "start_date=date(2025,7,25)\n",
    "\n",
    "td=timedelta(days=90)\n",
    "\n",
    "end_date=start_date+td\n",
    "\n",
    "print(end_date)\n"
   ]
  },
  {
   "cell_type": "code",
   "execution_count": null,
   "id": "2f257c7a",
   "metadata": {},
   "outputs": [
    {
     "name": "stdout",
     "output_type": "stream",
     "text": [
      "2025-07-25\n"
     ]
    }
   ],
   "source": [
    "## ISO Format/## ISO 8601 Format\n",
    "print(start_date.isoformat())\n"
   ]
  },
  {
   "cell_type": "code",
   "execution_count": 26,
   "id": "7a5589b6",
   "metadata": {},
   "outputs": [
    {
     "name": "stdout",
     "output_type": "stream",
     "text": [
      "25-25-07\n"
     ]
    }
   ],
   "source": [
    "print(start_date.strftime(\"%d-%y-%m\"))\n"
   ]
  },
  {
   "cell_type": "markdown",
   "id": "5f8a5d06",
   "metadata": {},
   "source": [
    "## Working with duration \n"
   ]
  },
  {
   "cell_type": "code",
   "execution_count": 27,
   "id": "78fa3de2",
   "metadata": {},
   "outputs": [
    {
     "data": {
      "text/plain": [
       "datetime.datetime(2017, 10, 1, 15, 23, 25)"
      ]
     },
     "execution_count": 27,
     "metadata": {},
     "output_type": "execute_result"
    }
   ],
   "source": [
    "from datetime import datetime\n",
    "dt=datetime(2017,10,1,15,23,25)\n",
    "dt\n"
   ]
  },
  {
   "cell_type": "code",
   "execution_count": 30,
   "id": "db3a73ad",
   "metadata": {},
   "outputs": [
    {
     "name": "stdout",
     "output_type": "stream",
     "text": [
      "2017-10-01 15:23:25.500000\n"
     ]
    }
   ],
   "source": [
    "dt=datetime(year=2017,month=10,day=1,hour=15,minute=23,second=25,microsecond=500000)\n",
    "print(dt)\n"
   ]
  },
  {
   "cell_type": "code",
   "execution_count": 37,
   "id": "6d3e04e1",
   "metadata": {},
   "outputs": [
    {
     "name": "stdout",
     "output_type": "stream",
     "text": [
      "365 days, 0:24:10\n"
     ]
    }
   ],
   "source": [
    "start=datetime(2017,10,8,23,46,47)\n",
    "end=datetime(2018,10,9,0,10,57)\n",
    "duration=end-start\n",
    "print(duration)\n",
    "\n"
   ]
  },
  {
   "cell_type": "code",
   "execution_count": null,
   "id": "a347a018",
   "metadata": {},
   "outputs": [],
   "source": []
  }
 ],
 "metadata": {
  "kernelspec": {
   "display_name": "Python 3",
   "language": "python",
   "name": "python3"
  },
  "language_info": {
   "codemirror_mode": {
    "name": "ipython",
    "version": 3
   },
   "file_extension": ".py",
   "mimetype": "text/x-python",
   "name": "python",
   "nbconvert_exporter": "python",
   "pygments_lexer": "ipython3",
   "version": "3.11.8"
  }
 },
 "nbformat": 4,
 "nbformat_minor": 5
}
